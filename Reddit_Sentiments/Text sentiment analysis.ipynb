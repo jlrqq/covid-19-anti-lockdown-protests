{
 "cells": [
  {
   "cell_type": "code",
   "execution_count": 1,
   "metadata": {},
   "outputs": [
    {
     "name": "stderr",
     "output_type": "stream",
     "text": [
      "[nltk_data] Downloading package vader_lexicon to\n",
      "[nltk_data]     C:\\Users\\Admin\\AppData\\Roaming\\nltk_data...\n",
      "[nltk_data]   Package vader_lexicon is already up-to-date!\n"
     ]
    }
   ],
   "source": [
    "import pandas as pd\n",
    "import nltk\n",
    "nltk.download('vader_lexicon')\n",
    "from nltk.sentiment.vader import SentimentIntensityAnalyzer\n",
    "from nltk.tokenize import sent_tokenize, word_tokenize, RegexpTokenizer\n",
    "from nltk.corpus import stopwords\n",
    "from nltk.stem import PorterStemmer\n",
    "from wordcloud import WordCloud\n",
    "import matplotlib.pyplot as plt"
   ]
  },
  {
   "cell_type": "code",
   "execution_count": 2,
   "metadata": {},
   "outputs": [],
   "source": [
    "# Load the CSV file into a pandas DataFrame\n",
    "antilockdown = pd.read_csv('../Reddit_Scraped_Comments/anti_lockdown_comments.csv')\n",
    "covid19 = pd.read_csv('../Reddit_Scraped_Comments/covid19_lockdown_comments.csv')\n",
    "corona = pd.read_csv('../Reddit_Scraped_Comments/corona_lockdown_comments.csv')\n",
    "# corona.info()"
   ]
  },
  {
   "cell_type": "code",
   "execution_count": 4,
   "metadata": {},
   "outputs": [],
   "source": [
    "def get_words(comments):\n",
    "\n",
    "    test_sentences = sent_tokenize(comments)\n",
    "    test_sentences\n",
    "\n",
    "    tokenizer = RegexpTokenizer(r'\\w+')\n",
    "    test_words = tokenizer.tokenize(comments)\n",
    "    test_words\n",
    "\n",
    "    stop_words = stopwords.words('english')\n",
    "    # print(stop_words)\n",
    "\n",
    "    filtered_test_words = []\n",
    "\n",
    "    for w in test_words:\n",
    "        if w not in stop_words:\n",
    "            filtered_test_words.append(w)\n",
    "\n",
    "    porter_stemer = PorterStemmer()\n",
    "\n",
    "    stemed_filter_test_words = []\n",
    "    for i in filtered_test_words:\n",
    "        stemed_filter_test_words.append(porter_stemer.stem(i))\n",
    "\n",
    "    join_words = \" \".join([str(x) for x in stemed_filter_test_words])\n",
    "\n",
    "    return join_words"
   ]
  },
  {
   "attachments": {},
   "cell_type": "markdown",
   "metadata": {},
   "source": [
    "<h1>SENTIMENT ANALYSIS</h1>"
   ]
  },
  {
   "cell_type": "code",
   "execution_count": 5,
   "metadata": {},
   "outputs": [
    {
     "name": "stdout",
     "output_type": "stream",
     "text": [
      "      Unnamed: 0      id       author  \\\n",
      "0              0  hb3v90  hunter15991   \n",
      "1              0  hb3v90  hunter15991   \n",
      "2              0  hb3v90  hunter15991   \n",
      "3              0  hb3v90  hunter15991   \n",
      "4              0  hb3v90  hunter15991   \n",
      "...          ...     ...          ...   \n",
      "9759           0  jjlxfb    Aryamatha   \n",
      "9760           0  jjlxfb    Aryamatha   \n",
      "9761           0  jjlxfb    Aryamatha   \n",
      "9762           0  jjlxfb    Aryamatha   \n",
      "9763           0  jjlxfb    Aryamatha   \n",
      "\n",
      "                                                  title  score  comms_num  \\\n",
      "0     Arizona Sheriff Who Refused to Enforce Lockdow...  63153       1166   \n",
      "1     Arizona Sheriff Who Refused to Enforce Lockdow...  63153       1166   \n",
      "2     Arizona Sheriff Who Refused to Enforce Lockdow...  63153       1166   \n",
      "3     Arizona Sheriff Who Refused to Enforce Lockdow...  63153       1166   \n",
      "4     Arizona Sheriff Who Refused to Enforce Lockdow...  63153       1166   \n",
      "...                                                 ...    ...        ...   \n",
      "9759  France expected to impose four-week national l...   4913        802   \n",
      "9760  France expected to impose four-week national l...   4913        802   \n",
      "9761  France expected to impose four-week national l...   4913        802   \n",
      "9762  France expected to impose four-week national l...   4913        802   \n",
      "9763  France expected to impose four-week national l...   4913        802   \n",
      "\n",
      "           created            timestamp           commenter  \\\n",
      "0     1.592440e+09  2020-06-18 08:29:20                 NaN   \n",
      "1     1.592440e+09  2020-06-18 08:29:20                 NaN   \n",
      "2     1.592440e+09  2020-06-18 08:29:20         lyrkyr12345   \n",
      "3     1.592440e+09  2020-06-18 08:29:20           Latexfrog   \n",
      "4     1.592440e+09  2020-06-18 08:29:20       Basslineblues   \n",
      "...            ...                  ...                 ...   \n",
      "9759  1.603884e+09  2020-10-28 19:23:22      plentyoffishes   \n",
      "9760  1.603884e+09  2020-10-28 19:23:22          BadTiger85   \n",
      "9761  1.603884e+09  2020-10-28 19:23:22              GEM592   \n",
      "9762  1.603884e+09  2020-10-28 19:23:22          VagnerLove   \n",
      "9763  1.603884e+09  2020-10-28 19:23:22  Instant_noodleless   \n",
      "\n",
      "                                                comment  top_lvl  \\\n",
      "0                                                 delet        1   \n",
      "1                                                 remov        0   \n",
      "2                               joe arpaio human garbag        0   \n",
      "3     paul penzon i great fortun go sheriff offic today        0   \n",
      "4                       unfortun joe arpaio run sheriff        0   \n",
      "...                                                 ...      ...   \n",
      "9759                       won work like first one work        1   \n",
      "9760  i would expect kind unrest franc seen itali right        1   \n",
      "9761                                           riot 3 2        1   \n",
      "9762  where bloodi prep meant whilst lock first time...        1   \n",
      "9763  well els expect happen reopen without actual a...        1   \n",
      "\n",
      "      sentiment_polarity  \n",
      "0                 0.0000  \n",
      "1                 0.0000  \n",
      "2                 0.0000  \n",
      "3                 0.6249  \n",
      "4                 0.0000  \n",
      "...                  ...  \n",
      "9759              0.7351  \n",
      "9760              0.5267  \n",
      "9761             -0.5574  \n",
      "9762             -0.3818  \n",
      "9763              0.2732  \n",
      "\n",
      "[9764 rows x 12 columns]\n"
     ]
    }
   ],
   "source": [
    "# Initialize the sentiment analyzer\n",
    "sid = SentimentIntensityAnalyzer()\n",
    "\n",
    "# Define a function to get the sentiment polarity of a text\n",
    "def get_sentiment(text):\n",
    "    sentiment_scores = sid.polarity_scores(text)\n",
    "    return sentiment_scores['compound']\n",
    "\n",
    "# Apply the function to the 'text' column of the DataFrame and create a new column for the sentiment polarity\n",
    "covid19['comment'] = covid19['comment'].apply(get_words)\n",
    "corona['comment'] = corona['comment'].apply(get_words)\n",
    "antilockdown['comment'] = antilockdown['comment'].apply(get_words)\n",
    "\n",
    "\n",
    "covid19['sentiment_polarity'] = covid19['comment'].apply(get_sentiment)\n",
    "corona['sentiment_polarity'] = corona['comment'].apply(get_sentiment)\n",
    "antilockdown['sentiment_polarity'] = antilockdown['comment'].apply(get_sentiment)\n"
   ]
  },
  {
   "cell_type": "code",
   "execution_count": 5,
   "metadata": {},
   "outputs": [],
   "source": [
    "def change_stat(value):\n",
    "    if value<-0.5:\n",
    "        return \"negative\"\n",
    "    elif value>0.5:\n",
    "        return \"positive\"\n",
    "    else:\n",
    "        return \"neutral\"\n",
    "\n",
    "covid19['sentiment_polarity_summary'] = covid19['sentiment_polarity'].apply(change_stat)\n",
    "\n",
    "antilockdown['sentiment_polarity_summary'] = antilockdown['sentiment_polarity'].apply(change_stat)\n",
    "\n",
    "corona['sentiment_polarity_summary'] = corona['sentiment_polarity'].apply(change_stat)\n"
   ]
  },
  {
   "cell_type": "code",
   "execution_count": 6,
   "metadata": {},
   "outputs": [],
   "source": [
    "\n",
    "covid19.to_csv(\"./covid19_sentiments.csv\")\n",
    "corona.to_csv(\"./corona_sentiments.csv\")\n",
    "antilockdown.to_csv(\"./antilockdown_sentiments.csv\")"
   ]
  },
  {
   "cell_type": "code",
   "execution_count": null,
   "metadata": {},
   "outputs": [],
   "source": []
  }
 ],
 "metadata": {
  "kernelspec": {
   "display_name": "Python 3",
   "language": "python",
   "name": "python3"
  },
  "language_info": {
   "codemirror_mode": {
    "name": "ipython",
    "version": 3
   },
   "file_extension": ".py",
   "mimetype": "text/x-python",
   "name": "python",
   "nbconvert_exporter": "python",
   "pygments_lexer": "ipython3",
   "version": "3.10.2"
  },
  "orig_nbformat": 4
 },
 "nbformat": 4,
 "nbformat_minor": 2
}
