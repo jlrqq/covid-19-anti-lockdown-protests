{
 "cells": [
  {
   "cell_type": "markdown",
   "id": "ab0ed21e",
   "metadata": {
    "id": "ab0ed21e"
   },
   "source": [
    "<h1>Twitter Data</h1>"
   ]
  },
  {
   "cell_type": "markdown",
   "id": "a3df3dcc",
   "metadata": {
    "id": "a3df3dcc"
   },
   "source": [
    "<h3>Installation and import of libraries</h3>"
   ]
  },
  {
   "cell_type": "code",
   "execution_count": 33,
   "id": "T_zx5NHOBpCr",
   "metadata": {
    "id": "T_zx5NHOBpCr"
   },
   "outputs": [],
   "source": [
    "folder_path = \"../Twitter_Data/\"\n",
    "output_folder_path = \"./\"\n",
    "file1 = \"Twitter_Covid-19_Lockdown_5000.csv\"\n",
    "file2 = \"Twitter_Jan_Mar_5000.csv\"\n",
    "file3 = \"Twitter_Mar_5000.csv\"\n",
    "file4 = \"Twitter_May_Nov_5000.csv\""
   ]
  },
  {
   "cell_type": "code",
   "execution_count": 34,
   "id": "203be871",
   "metadata": {
    "colab": {
     "base_uri": "https://localhost:8080/"
    },
    "id": "203be871",
    "outputId": "f7d82eef-e99e-4221-ca07-0a4fc6676975"
   },
   "outputs": [
    {
     "name": "stdout",
     "output_type": "stream",
     "text": [
      "Looking in indexes: https://pypi.org/simple, https://us-python.pkg.dev/colab-wheels/public/simple/\n",
      "Requirement already satisfied: pyLDAvis in /usr/local/lib/python3.9/dist-packages (3.4.0)\n",
      "Requirement already satisfied: numexpr in /usr/local/lib/python3.9/dist-packages (from pyLDAvis) (2.8.4)\n",
      "Requirement already satisfied: jinja2 in /usr/local/lib/python3.9/dist-packages (from pyLDAvis) (3.1.2)\n",
      "Requirement already satisfied: gensim in /usr/local/lib/python3.9/dist-packages (from pyLDAvis) (4.3.1)\n",
      "Requirement already satisfied: setuptools in /usr/local/lib/python3.9/dist-packages (from pyLDAvis) (67.6.0)\n",
      "Requirement already satisfied: scikit-learn>=1.0.0 in /usr/local/lib/python3.9/dist-packages (from pyLDAvis) (1.2.2)\n",
      "Requirement already satisfied: funcy in /usr/local/lib/python3.9/dist-packages (from pyLDAvis) (2.0)\n",
      "Requirement already satisfied: numpy>=1.22.0 in /usr/local/lib/python3.9/dist-packages (from pyLDAvis) (1.22.4)\n",
      "Requirement already satisfied: pandas>=1.3.4 in /usr/local/lib/python3.9/dist-packages (from pyLDAvis) (1.4.4)\n",
      "Requirement already satisfied: joblib>=1.2.0 in /usr/local/lib/python3.9/dist-packages (from pyLDAvis) (1.2.0)\n",
      "Requirement already satisfied: scipy in /usr/local/lib/python3.9/dist-packages (from pyLDAvis) (1.10.1)\n",
      "Requirement already satisfied: pytz>=2020.1 in /usr/local/lib/python3.9/dist-packages (from pandas>=1.3.4->pyLDAvis) (2022.7.1)\n",
      "Requirement already satisfied: python-dateutil>=2.8.1 in /usr/local/lib/python3.9/dist-packages (from pandas>=1.3.4->pyLDAvis) (2.8.2)\n",
      "Requirement already satisfied: threadpoolctl>=2.0.0 in /usr/local/lib/python3.9/dist-packages (from scikit-learn>=1.0.0->pyLDAvis) (3.1.0)\n",
      "Requirement already satisfied: smart-open>=1.8.1 in /usr/local/lib/python3.9/dist-packages (from gensim->pyLDAvis) (6.3.0)\n",
      "Requirement already satisfied: MarkupSafe>=2.0 in /usr/local/lib/python3.9/dist-packages (from jinja2->pyLDAvis) (2.1.2)\n",
      "Requirement already satisfied: six>=1.5 in /usr/local/lib/python3.9/dist-packages (from python-dateutil>=2.8.1->pandas>=1.3.4->pyLDAvis) (1.16.0)\n"
     ]
    }
   ],
   "source": [
    "!pip install pyLDAvis"
   ]
  },
  {
   "cell_type": "code",
   "execution_count": 35,
   "id": "efa8b7c6",
   "metadata": {
    "colab": {
     "base_uri": "https://localhost:8080/"
    },
    "id": "efa8b7c6",
    "outputId": "f477c46b-aa0d-4802-f6de-f3439d9fa353"
   },
   "outputs": [
    {
     "name": "stderr",
     "output_type": "stream",
     "text": [
      "[nltk_data] Downloading package stopwords to /root/nltk_data...\n",
      "[nltk_data]   Package stopwords is already up-to-date!\n"
     ]
    }
   ],
   "source": [
    "import re\n",
    "import numpy as np\n",
    "import pandas as pd\n",
    "from pprint import pprint\n",
    "\n",
    "# Gensim\n",
    "import gensim\n",
    "import gensim.corpora as corpora\n",
    "from gensim.utils import simple_preprocess\n",
    "from gensim.models import CoherenceModel\n",
    "\n",
    "# spacy for lemmatization\n",
    "import spacy\n",
    "\n",
    "import nltk\n",
    "nltk.download('stopwords') #download if don't have yet\n",
    "from nltk.tokenize import word_tokenize, RegexpTokenizer # tokenize words\n",
    "from nltk.corpus import stopwords\n",
    "\n",
    "# Plotting tools\n",
    "import pyLDAvis\n",
    "import pyLDAvis.gensim_models  # don't skip this\n",
    "import matplotlib.pyplot as plt\n",
    "%matplotlib inline\n",
    "\n",
    "# Enable logging for gensim - optional\n",
    "import logging\n",
    "logging.basicConfig(format='%(asctime)s : %(levelname)s : %(message)s', level=logging.ERROR)\n",
    "\n",
    "import warnings\n",
    "warnings.filterwarnings(\"ignore\",category=DeprecationWarning)"
   ]
  },
  {
   "cell_type": "markdown",
   "id": "a21a190a",
   "metadata": {
    "id": "a21a190a"
   },
   "source": [
    "<h3>Viewing Data</h3>"
   ]
  },
  {
   "cell_type": "code",
   "execution_count": 36,
   "id": "0cc1380c",
   "metadata": {
    "colab": {
     "base_uri": "https://localhost:8080/"
    },
    "id": "0cc1380c",
    "outputId": "9ebe7370-663b-43b3-b77b-2edf092d1e18"
   },
   "outputs": [
    {
     "name": "stdout",
     "output_type": "stream",
     "text": [
      "Index(['author_id', 'conversation_id', 'id', 'edit_history_tweet_ids', 'text',\n",
      "       'created_at', 'withheld.copyright', 'withheld.country_codes',\n",
      "       'author_name', 'orginal_text', 'original_text'],\n",
      "      dtype='object')\n",
      "Index(['Datetime', 'Tweet Id', 'Text', 'Username', 'Coordinates', 'Place'], dtype='object')\n",
      "Index(['Datetime', 'Tweet Id', 'Text', 'Username', 'Coordinates', 'Place'], dtype='object')\n",
      "Index(['Datetime', 'Tweet Id', 'Text', 'Username', 'Coordinates', 'Place'], dtype='object')\n"
     ]
    }
   ],
   "source": [
    "twitter_lockdown_df = pd.read_csv(folder_path + file1)\n",
    "twitter_jan_mar_df = pd.read_csv(folder_path + file2)\n",
    "twitter_mar_df = pd.read_csv(folder_path + file3)\n",
    "twitter_may_nov_df = pd.read_csv(folder_path + file4)\n",
    "\n",
    "print(twitter_lockdown_df.columns)\n",
    "print(twitter_jan_mar_df.columns)\n",
    "print(twitter_mar_df.columns)\n",
    "print(twitter_may_nov_df.columns)"
   ]
  },
  {
   "cell_type": "code",
   "execution_count": 37,
   "id": "MBRTYov0cNKL",
   "metadata": {
    "id": "MBRTYov0cNKL"
   },
   "outputs": [],
   "source": [
    "# Drop columns mentioning Bheed trailer\n",
    "twitter_lockdown_df = twitter_lockdown_df[ twitter_lockdown_df[\"text\"].str.contains(\"Bheed\")==False]\n",
    "twitter_jan_mar_df = twitter_jan_mar_df[ twitter_jan_mar_df[\"Text\"].str.contains(\"Bheed\")==False]\n",
    "twitter_mar_df = twitter_mar_df[ twitter_mar_df[\"Text\"].str.contains(\"Bheed\")==False]\n",
    "twitter_may_nov_df = twitter_may_nov_df[ twitter_may_nov_df[\"Text\"].str.contains(\"Bheed\")==False]"
   ]
  },
  {
   "cell_type": "markdown",
   "id": "74dc7bd6",
   "metadata": {
    "id": "74dc7bd6"
   },
   "source": [
    "<h3>Cleaning Data</h3>"
   ]
  },
  {
   "cell_type": "code",
   "execution_count": 38,
   "id": "eb1f6238",
   "metadata": {
    "id": "eb1f6238"
   },
   "outputs": [],
   "source": [
    "def remove_user_mentions(text):\n",
    "    return re.sub(\"@[A-Za-z0-9_]+\",\"\", text)\n",
    "\n",
    "def remove_links(text):\n",
    "    return re.sub(r'http\\S+', '', text)\n",
    "\n",
    "def remove_digit_strings(text):\n",
    "    return re.sub(r'\\d+', '', text)\n",
    "\n",
    "def remove_special_chars(text):\n",
    "    remove_chars = '[0-9’!\"#$%&\\'()*+,-./:;<=>?@，。?★、…【】《》？“”‘’！[\\\\]^_`{|}~]+'\n",
    "    return re.sub(remove_chars, ' ', text)\n",
    "\n",
    "def clean_text(text):\n",
    "    result_text = text\n",
    "    result_text = remove_user_mentions(result_text)\n",
    "    result_text = remove_links(result_text)\n",
    "    result_text = remove_digit_strings(result_text)\n",
    "    result_text = remove_special_chars(result_text)\n",
    "    result_text = result_text.lower()\n",
    "    return result_text"
   ]
  },
  {
   "cell_type": "code",
   "execution_count": 39,
   "id": "5b99f4df",
   "metadata": {
    "id": "5b99f4df"
   },
   "outputs": [],
   "source": [
    "'''\n",
    "Clean text, and check for empty strings / strings containing only whitespace\n",
    "'''\n",
    "texts = twitter_lockdown_df[\"text\"].tolist() + twitter_jan_mar_df[\"Text\"].tolist() + twitter_mar_df[\"Text\"].tolist() + twitter_may_nov_df[\"Text\"].tolist()\n",
    "for i in range(len(texts)):\n",
    "    texts[i] = clean_text(texts[i])"
   ]
  },
  {
   "cell_type": "code",
   "execution_count": 40,
   "id": "02b57114",
   "metadata": {
    "colab": {
     "base_uri": "https://localhost:8080/"
    },
    "id": "02b57114",
    "outputId": "30d61bc8-04a1-4a78-a89d-3b068cd582a8"
   },
   "outputs": [
    {
     "name": "stdout",
     "output_type": "stream",
     "text": [
      "14144\n",
      "rt   today marks three years since the uk went into lockdown   \n",
      "\n",
      "on this national day of reflection  i visited the  \n",
      " i used play fortnite a lot on my android in covid   lockdown and chapter  midas revenge was the best one\n"
     ]
    }
   ],
   "source": [
    "print(len(texts))\n",
    "print(texts[0])\n",
    "print(texts[1])"
   ]
  },
  {
   "cell_type": "markdown",
   "id": "dc23a85b",
   "metadata": {
    "id": "dc23a85b"
   },
   "source": [
    "<h3>Tokenizing Data</h3>"
   ]
  },
  {
   "cell_type": "code",
   "execution_count": 41,
   "id": "c27593c3",
   "metadata": {
    "id": "c27593c3"
   },
   "outputs": [],
   "source": [
    "# Stopwords\n",
    "stop_words = stopwords.words('english')\n",
    "exclude_words = stop_words\n",
    "\n",
    "#exclude common words \n",
    "exclude_words_extra = [\"RT\",\"still\",\"covid\",\"coronavirus\",\"lockdown\",\"lockdo\",\"pandemic\",\"let\",\"get\",\"ago\",\"go\",\"im\",\"ive\",\"would\",\"one\",\"also\",\"to\",\"tag\"]\n",
    "\n",
    "exclude_words.extend(exclude_words_extra)"
   ]
  },
  {
   "cell_type": "code",
   "execution_count": 42,
   "id": "e2d1320a",
   "metadata": {
    "id": "e2d1320a"
   },
   "outputs": [],
   "source": [
    "def sent_to_words(sentences):\n",
    "    for sentence in sentences:\n",
    "        yield(gensim.utils.simple_preprocess(str(sentence), deacc=True))  # deacc=True removes punctuations\n",
    "\n",
    "data_words = list(sent_to_words(texts))"
   ]
  },
  {
   "cell_type": "code",
   "execution_count": 43,
   "id": "5239f140",
   "metadata": {
    "colab": {
     "base_uri": "https://localhost:8080/"
    },
    "id": "5239f140",
    "outputId": "90a404ff-47f1-4969-b41d-358378fea753"
   },
   "outputs": [
    {
     "name": "stdout",
     "output_type": "stream",
     "text": [
      "['rt_today_marks', 'three_years_since', 'the', 'uk', 'went_into', 'lockdown', 'on', 'this', 'national', 'day', 'of', 'reflection', 'visited', 'the']\n"
     ]
    }
   ],
   "source": [
    "# Build the bigram and trigram models\n",
    "bigram = gensim.models.Phrases(data_words, min_count=5, threshold=100) # higher threshold fewer phrases.\n",
    "trigram = gensim.models.Phrases(bigram[data_words], threshold=100)  \n",
    "\n",
    "# Faster way to get a sentence clubbed as a trigram/bigram\n",
    "bigram_mod = gensim.models.phrases.Phraser(bigram)\n",
    "trigram_mod = gensim.models.phrases.Phraser(trigram)\n",
    "\n",
    "# See trigram example\n",
    "print(trigram_mod[bigram_mod[data_words[0]]])"
   ]
  },
  {
   "cell_type": "code",
   "execution_count": 44,
   "id": "5cb5ab10",
   "metadata": {
    "id": "5cb5ab10"
   },
   "outputs": [],
   "source": [
    "def remove_stopwords(texts):\n",
    "    return [[word for word in simple_preprocess(str(doc)) if word not in exclude_words] for doc in texts]\n",
    "\n",
    "def make_bigrams(texts):\n",
    "    return [bigram_mod[doc] for doc in texts]\n",
    "\n",
    "def make_trigrams(texts):\n",
    "    return [trigram_mod[bigram_mod[doc]] for doc in texts]\n",
    "\n",
    "def lemmatization(texts, allowed_postags=['NOUN', 'ADJ', 'VERB', 'ADV']):\n",
    "    \"\"\"https://spacy.io/api/annotation\"\"\"\n",
    "    texts_out = []\n",
    "    for sent in texts:\n",
    "        doc = nlp(\" \".join(sent)) \n",
    "        texts_out.append([token.lemma_ for token in doc if token.pos_ in allowed_postags])\n",
    "    return texts_out"
   ]
  },
  {
   "cell_type": "code",
   "execution_count": 45,
   "id": "367c7f83",
   "metadata": {
    "colab": {
     "base_uri": "https://localhost:8080/"
    },
    "id": "367c7f83",
    "outputId": "8ad46728-cf07-40c7-dfc5-bab0a1a722f6"
   },
   "outputs": [
    {
     "name": "stdout",
     "output_type": "stream",
     "text": [
      "[['go', 'national', 'day', 'reflection', 'visit']]\n"
     ]
    }
   ],
   "source": [
    "# Remove Stop Words\n",
    "data_words_nostops = remove_stopwords(data_words)\n",
    "\n",
    "# Form Bigrams\n",
    "data_words_bigrams = make_bigrams(data_words_nostops)\n",
    "\n",
    "# Initialize spacy 'en' model, keeping only tagger component (for efficiency)\n",
    "# python3 -m spacy download en\n",
    "nlp = spacy.load('en_core_web_sm', disable=['parser', 'ner'])\n",
    "\n",
    "# Do lemmatization keeping only noun, adj, vb, adv\n",
    "data_lemmatized = lemmatization(data_words_bigrams, allowed_postags=['NOUN', 'ADJ', 'VERB', 'ADV'])\n",
    "\n",
    "print(data_lemmatized[:1])"
   ]
  },
  {
   "cell_type": "code",
   "execution_count": 46,
   "id": "2dadf3f4",
   "metadata": {
    "colab": {
     "base_uri": "https://localhost:8080/"
    },
    "id": "2dadf3f4",
    "outputId": "18c36d13-10a8-4c39-fe10-f3321d6fba3a"
   },
   "outputs": [
    {
     "name": "stdout",
     "output_type": "stream",
     "text": [
      "[[(0, 1), (1, 1), (2, 1), (3, 1), (4, 1)]]\n"
     ]
    },
    {
     "data": {
      "text/plain": [
       "[[('day', 1), ('go', 1), ('national', 1), ('reflection', 1), ('visit', 1)]]"
      ]
     },
     "execution_count": 46,
     "metadata": {},
     "output_type": "execute_result"
    }
   ],
   "source": [
    "# Create Dictionary\n",
    "id2word = corpora.Dictionary(data_lemmatized)\n",
    "\n",
    "# Create Corpus\n",
    "texts = data_lemmatized\n",
    "\n",
    "# Term Document Frequency\n",
    "corpus = [id2word.doc2bow(text) for text in texts]\n",
    "\n",
    "# View\n",
    "print(corpus[:1])\n",
    "\n",
    "# Human readable format of corpus (term-frequency)\n",
    "[[(id2word[id], freq) for id, freq in cp] for cp in corpus[:1]]"
   ]
  },
  {
   "cell_type": "markdown",
   "id": "6686ad6c",
   "metadata": {
    "id": "6686ad6c"
   },
   "source": [
    "<h3>LDA Model</h3>"
   ]
  },
  {
   "cell_type": "code",
   "execution_count": 47,
   "id": "25aac492",
   "metadata": {
    "id": "25aac492"
   },
   "outputs": [],
   "source": [
    "# supporting function\n",
    "def compute_coherence_values(corpus, dictionary, k, a, b):\n",
    "    \n",
    "    lda_model = gensim.models.LdaMulticore(corpus=corpus,\n",
    "                                           id2word=dictionary,\n",
    "                                           num_topics=k, \n",
    "                                           random_state=100,\n",
    "                                           chunksize=100,\n",
    "                                           passes=10,\n",
    "                                           alpha=a,\n",
    "                                           eta=b)\n",
    "    \n",
    "    coherence_model_lda = CoherenceModel(model=lda_model, texts=data_lemmatized, dictionary=id2word, coherence='c_v')\n",
    "    \n",
    "    return coherence_model_lda.get_coherence()\n",
    "\n",
    "# supporting function 2\n",
    "def compute_perplexity_values(corpus, dictionary, k, a, b):\n",
    "    \n",
    "    lda_model = gensim.models.LdaMulticore(corpus=corpus,\n",
    "                                           id2word=dictionary,\n",
    "                                           num_topics=k, \n",
    "                                           random_state=100,\n",
    "                                           chunksize=100,\n",
    "                                           passes=10,\n",
    "                                           alpha=a,\n",
    "                                           eta=b)\n",
    "    \n",
    "    perplexity_score = lda_model.log_perplexity(corpus_sets[i])\n",
    "    \n",
    "    return perplexity_score"
   ]
  },
  {
   "cell_type": "code",
   "execution_count": 48,
   "id": "44995e0c",
   "metadata": {
    "id": "44995e0c"
   },
   "outputs": [],
   "source": [
    "# Build LDA model\n",
    "num_topics = 4\n",
    "lda_model = gensim.models.ldamodel.LdaModel(corpus=corpus,\n",
    "                                           id2word=id2word,\n",
    "                                           num_topics=num_topics, \n",
    "                                           random_state=100,\n",
    "                                           update_every=1,\n",
    "                                           chunksize=100,\n",
    "                                           passes=10,\n",
    "                                           alpha='auto',\n",
    "                                           per_word_topics=True)"
   ]
  },
  {
   "cell_type": "code",
   "execution_count": 49,
   "id": "37df48e4",
   "metadata": {
    "colab": {
     "base_uri": "https://localhost:8080/"
    },
    "id": "37df48e4",
    "outputId": "2f461e6b-5b7a-458f-a9f0-be1f4347c911"
   },
   "outputs": [
    {
     "name": "stdout",
     "output_type": "stream",
     "text": [
      "[(0,\n",
      "  '0.031*\"day\" + 0.015*\"tier\" + 0.015*\"need\" + 0.015*\"time\" + 0.015*\"go\" + '\n",
      "  '0.013*\"government\" + 0.013*\"end\" + 0.013*\"see\" + 0.013*\"week\" + '\n",
      "  '0.013*\"come\"'),\n",
      " (1,\n",
      "  '0.047*\"people\" + 0.023*\"death\" + 0.016*\"home\" + 0.015*\"make\" + '\n",
      "  '0.014*\"think\" + 0.013*\"due\" + 0.011*\"health\" + 0.010*\"impose\" + '\n",
      "  '0.010*\"close\" + 0.010*\"state\"'),\n",
      " (2,\n",
      "  '0.022*\"say\" + 0.016*\"die\" + 0.014*\"country\" + 0.011*\"rise\" + '\n",
      "  '0.010*\"interview\" + 0.010*\"read\" + 0.009*\"number\" + 0.009*\"get\" + '\n",
      "  '0.009*\"spread\" + 0.008*\"good\"'),\n",
      " (3,\n",
      "  '0.019*\"new\" + 0.016*\"case\" + 0.011*\"year\" + 0.011*\"restriction\" + '\n",
      "  '0.010*\"take\" + 0.010*\"work\" + 0.009*\"help\" + 0.009*\"amp\" + 0.009*\"woman\" + '\n",
      "  '0.009*\"violence\"')]\n"
     ]
    }
   ],
   "source": [
    "# Print the Keyword in the 10 topics\n",
    "pprint(lda_model.print_topics())\n",
    "doc_lda = lda_model[corpus]"
   ]
  },
  {
   "cell_type": "code",
   "execution_count": 50,
   "id": "1cf314c0",
   "metadata": {
    "colab": {
     "base_uri": "https://localhost:8080/"
    },
    "id": "1cf314c0",
    "outputId": "58721c81-c3a0-42d6-9047-82ee99a0b57c"
   },
   "outputs": [
    {
     "name": "stdout",
     "output_type": "stream",
     "text": [
      "\n",
      "Perplexity:  -9.081663422356895\n",
      "\n",
      "Coherence Score:  0.3471080792640732\n"
     ]
    }
   ],
   "source": [
    "# Compute Perplexity\n",
    "print('\\nPerplexity: ', lda_model.log_perplexity(corpus))  # a measure of how good the model is. lower the better.\n",
    "\n",
    "# Compute Coherence Score\n",
    "coherence_model_lda = CoherenceModel(model=lda_model, texts=data_lemmatized, dictionary=id2word, coherence='c_v')\n",
    "coherence_lda = coherence_model_lda.get_coherence()\n",
    "print('\\nCoherence Score: ', coherence_lda)"
   ]
  },
  {
   "cell_type": "code",
   "execution_count": 51,
   "id": "04558882",
   "metadata": {
    "colab": {
     "base_uri": "https://localhost:8080/",
     "height": 916
    },
    "id": "04558882",
    "outputId": "eb44a7ba-a9d9-4a06-8486-6f0a02df3a1b"
   },
   "outputs": [
    {
     "name": "stderr",
     "output_type": "stream",
     "text": [
      "/usr/local/lib/python3.9/dist-packages/pyLDAvis/_prepare.py:243: FutureWarning: In a future version of pandas all arguments of DataFrame.drop except for the argument 'labels' will be keyword-only.\n",
      "  default_term_info = default_term_info.sort_values(\n"
     ]
    },
    {
     "data": {
      "text/html": [
       "\n",
       "<link rel=\"stylesheet\" type=\"text/css\" href=\"https://cdn.jsdelivr.net/gh/bmabey/pyLDAvis@3.4.0/pyLDAvis/js/ldavis.v1.0.0.css\">\n",
       "\n",
       "\n",
       "<div id=\"ldavis_el1701405877215282568680593600\" style=\"background-color:white;\"></div>\n",
       "<script type=\"text/javascript\">\n",
       "\n",
       "var ldavis_el1701405877215282568680593600_data = {\"mdsDat\": {\"x\": [0.3046948068518201, -0.143533650349654, -0.09478604082565113, -0.06637511567651512], \"y\": [0.034726914213155415, 0.24128250554272399, -0.20171434661608417, -0.07429507313979518], \"topics\": [1, 2, 3, 4], \"cluster\": [1, 1, 1, 1], \"Freq\": [34.65146652229456, 26.221373888863287, 21.233342622958443, 17.893816965883712]}, \"tinfo\": {\"Term\": [\"people\", \"day\", \"death\", \"say\", \"new\", \"case\", \"need\", \"time\", \"go\", \"die\", \"home\", \"make\", \"government\", \"end\", \"country\", \"see\", \"week\", \"tier\", \"come\", \"think\", \"support\", \"year\", \"restriction\", \"due\", \"rule\", \"take\", \"work\", \"rise\", \"back\", \"interview\", \"new\", \"case\", \"year\", \"restriction\", \"take\", \"work\", \"amp\", \"help\", \"woman\", \"month\", \"violence\", \"increase\", \"business\", \"many\", \"family\", \"high\", \"know\", \"measure\", \"life\", \"impact\", \"well\", \"virus\", \"start\", \"use\", \"report\", \"last\", \"economy\", \"restaurant\", \"school\", \"world\", \"call\", \"day\", \"need\", \"time\", \"go\", \"end\", \"government\", \"see\", \"week\", \"come\", \"support\", \"rule\", \"back\", \"open\", \"want\", \"find\", \"news\", \"give\", \"mask\", \"test\", \"level\", \"look\", \"today\", \"local\", \"place\", \"first\", \"mean\", \"talk\", \"happen\", \"full\", \"thank\", \"tier\", \"say\", \"die\", \"country\", \"rise\", \"read\", \"number\", \"spread\", \"get\", \"good\", \"interview\", \"control\", \"part\", \"allow\", \"right\", \"break\", \"watch\", \"travel\", \"thing\", \"cause\", \"lockdown\", \"lose\", \"meet\", \"holiday\", \"learn\", \"und\", \"friend\", \"shop\", \"hard\", \"put\", \"story\", \"people\", \"death\", \"home\", \"make\", \"think\", \"due\", \"health\", \"impose\", \"close\", \"state\", \"order\", \"stay\", \"stop\", \"quarantine\", \"plan\", \"bad\", \"way\", \"online\", \"care\", \"job\", \"covidiot\", \"food\", \"early\", \"do\", \"guideline\", \"corona\", \"seem\", \"result\", \"deal\", \"lock\", \"bubble\"], \"Freq\": [1091.0, 1066.0, 542.0, 598.0, 865.0, 730.0, 526.0, 514.0, 500.0, 431.0, 375.0, 362.0, 462.0, 459.0, 390.0, 449.0, 444.0, 560.0, 440.0, 333.0, 421.0, 518.0, 515.0, 305.0, 375.0, 471.0, 436.0, 292.0, 333.0, 285.0, 864.4369136370794, 729.4257804794, 517.9879831285074, 514.5407533870832, 470.5978874292879, 435.9791094356452, 393.80324984508087, 395.1389569717559, 392.9643616420863, 367.4808753589048, 385.8042373526468, 358.8668722541669, 327.5795570924223, 320.65189478238835, 324.2931311322148, 315.62293213699263, 308.2145882366942, 295.5341036784241, 280.56722265701353, 272.7686928009017, 255.43820925059526, 254.19485407907788, 253.9830858566412, 250.93091491288547, 246.15628929885932, 243.72147155739785, 238.57262856454645, 251.96619340882606, 233.4328984188006, 227.68619359107515, 228.18948854267558, 1065.7820879696658, 525.8812192735908, 513.6236514884536, 499.7113347192424, 458.3376297801226, 462.12539975263854, 448.78952509749666, 443.833610632635, 439.8537784227331, 420.4162244028718, 374.9024864049134, 332.7844125949673, 306.2076727957309, 300.031224521444, 284.55568842816325, 278.90163283844186, 261.13501389879053, 253.80413302227714, 248.51790407285534, 240.03271829507116, 241.97589585023272, 234.77244456489717, 237.97074692586156, 228.98222783115136, 222.50110103916285, 223.25938931416135, 194.57157712824534, 189.95713501894883, 180.01381184102382, 172.9379976609192, 528.8358362858239, 597.3398296465167, 430.66194089337483, 389.99566880412823, 291.9939785111535, 278.60293984239973, 263.56977104200274, 248.2495138424889, 250.15618927698333, 229.24695044711754, 284.3088250063678, 211.61713752388496, 206.4760318926774, 197.65197376124686, 184.387016148098, 183.2049771681055, 164.0882117913655, 165.77078765019638, 159.91568373434163, 154.5369190618841, 150.72337430158564, 149.03198285121053, 144.04366357198677, 143.72968891126877, 138.1195084977312, 127.74936106335788, 126.26520064470904, 122.20427642550479, 118.30415273241549, 114.76836373619722, 112.51295539221285, 1091.1937456902983, 542.2517308768186, 374.65825336380277, 362.2865831316219, 332.5423704557996, 304.88645324077265, 251.8659181847956, 242.85039195745605, 233.78002983725005, 223.45881241750973, 219.96238700060357, 203.2433437394899, 198.1592264161331, 188.12140402794103, 177.86189605061, 168.91398332883705, 166.55607261489556, 168.95200026687917, 166.9640085211244, 148.42798437681273, 148.57806958378814, 132.62507307077558, 127.40813611259145, 101.97516403490378, 106.61343744504417, 100.58422339920284, 89.7072070597713, 90.16176545735267, 86.89680219173239, 82.3773616690136, 84.13617336907554], \"Total\": [1091.0, 1066.0, 542.0, 598.0, 865.0, 730.0, 526.0, 514.0, 500.0, 431.0, 375.0, 362.0, 462.0, 459.0, 390.0, 449.0, 444.0, 560.0, 440.0, 333.0, 421.0, 518.0, 515.0, 305.0, 375.0, 471.0, 436.0, 292.0, 333.0, 285.0, 865.1153909750462, 730.0915118969601, 518.6635303003981, 515.215626181911, 471.27054196763993, 436.6497683819652, 394.46480993457976, 395.8077572038154, 393.64194161078905, 368.15373344939786, 386.52192843847405, 359.5376367256984, 328.24889367690594, 321.31944840034043, 324.9741162153839, 316.28857186643535, 308.87939887149395, 296.1995635929287, 281.2326726366208, 273.4383743678686, 256.0987839794173, 254.85744671928865, 254.65666226002094, 251.60163156612103, 246.82361226203724, 244.39509413796173, 239.23713824374255, 252.68884145721987, 234.11248876030567, 228.3529992216759, 228.85909774064416, 1066.454771316778, 526.5499155228052, 514.2924133566968, 500.3851907507738, 459.0010731998175, 462.7960047067452, 449.46018822164757, 444.5029659775699, 440.5198463930394, 421.08867905377934, 375.584977265568, 333.47065905264304, 306.8950007620061, 300.71362834442596, 285.2301664560475, 279.57840981015175, 261.8092613250771, 254.47759084335817, 249.19386761293896, 240.6949789769843, 242.6478550432239, 235.43206820819196, 238.65270065521042, 229.65119655126392, 223.16246806650958, 223.9296428868099, 195.2627272939152, 190.64415275531763, 180.69211606169495, 173.62123757935333, 560.0565580183494, 598.0181323683781, 431.32708372683254, 390.67407981451265, 292.6843001796768, 279.281741047818, 264.26068951985684, 248.91790406900105, 250.83681970058296, 229.9177312236964, 285.1859588551518, 212.29797629870407, 207.15024353841912, 198.37378103934915, 185.06861151938116, 183.8992192526781, 164.7490587661793, 166.45163429978945, 160.59747851992003, 155.21572228243522, 151.4077238036885, 149.716519514313, 144.7229668326134, 144.43063236732826, 138.7937315755538, 128.41467105844916, 126.95349559113096, 122.8910988225409, 118.98715208986025, 115.43762165224842, 113.17786935678382, 1091.8644548346647, 542.9278926752139, 375.32448260295104, 362.95136512715146, 333.21897847806366, 305.5501708188814, 252.5355256690551, 243.53128406001628, 234.45914049509605, 224.12783481679193, 220.63913620611507, 203.91454215588368, 198.8248390444096, 188.79147900053644, 178.5413981916452, 169.5844330781341, 167.22080845561493, 169.6387974205808, 167.642804906564, 149.09949778838296, 149.2738359008888, 133.2886331725886, 128.08206308969716, 102.63663818069891, 107.30765889428929, 101.26184157567083, 90.37795362266039, 90.85430664442073, 87.57838751685675, 83.04452226412444, 98.47644719867804], \"Category\": [\"Default\", \"Default\", \"Default\", \"Default\", \"Default\", \"Default\", \"Default\", \"Default\", \"Default\", \"Default\", \"Default\", \"Default\", \"Default\", \"Default\", \"Default\", \"Default\", \"Default\", \"Default\", \"Default\", \"Default\", \"Default\", \"Default\", \"Default\", \"Default\", \"Default\", \"Default\", \"Default\", \"Default\", \"Default\", \"Default\", \"Topic1\", \"Topic1\", \"Topic1\", \"Topic1\", \"Topic1\", \"Topic1\", \"Topic1\", \"Topic1\", \"Topic1\", \"Topic1\", \"Topic1\", \"Topic1\", \"Topic1\", \"Topic1\", \"Topic1\", \"Topic1\", \"Topic1\", \"Topic1\", \"Topic1\", \"Topic1\", \"Topic1\", \"Topic1\", \"Topic1\", \"Topic1\", \"Topic1\", \"Topic1\", \"Topic1\", \"Topic1\", \"Topic1\", \"Topic1\", \"Topic1\", \"Topic2\", \"Topic2\", \"Topic2\", \"Topic2\", \"Topic2\", \"Topic2\", \"Topic2\", \"Topic2\", \"Topic2\", \"Topic2\", \"Topic2\", \"Topic2\", \"Topic2\", \"Topic2\", \"Topic2\", \"Topic2\", \"Topic2\", \"Topic2\", \"Topic2\", \"Topic2\", \"Topic2\", \"Topic2\", \"Topic2\", \"Topic2\", \"Topic2\", \"Topic2\", \"Topic2\", \"Topic2\", \"Topic2\", \"Topic2\", \"Topic2\", \"Topic3\", \"Topic3\", \"Topic3\", \"Topic3\", \"Topic3\", \"Topic3\", \"Topic3\", \"Topic3\", \"Topic3\", \"Topic3\", \"Topic3\", \"Topic3\", \"Topic3\", \"Topic3\", \"Topic3\", \"Topic3\", \"Topic3\", \"Topic3\", \"Topic3\", \"Topic3\", \"Topic3\", \"Topic3\", \"Topic3\", \"Topic3\", \"Topic3\", \"Topic3\", \"Topic3\", \"Topic3\", \"Topic3\", \"Topic3\", \"Topic4\", \"Topic4\", \"Topic4\", \"Topic4\", \"Topic4\", \"Topic4\", \"Topic4\", \"Topic4\", \"Topic4\", \"Topic4\", \"Topic4\", \"Topic4\", \"Topic4\", \"Topic4\", \"Topic4\", \"Topic4\", \"Topic4\", \"Topic4\", \"Topic4\", \"Topic4\", \"Topic4\", \"Topic4\", \"Topic4\", \"Topic4\", \"Topic4\", \"Topic4\", \"Topic4\", \"Topic4\", \"Topic4\", \"Topic4\", \"Topic4\"], \"logprob\": [30.0, 29.0, 28.0, 27.0, 26.0, 25.0, 24.0, 23.0, 22.0, 21.0, 20.0, 19.0, 18.0, 17.0, 16.0, 15.0, 14.0, 13.0, 12.0, 11.0, 10.0, 9.0, 8.0, 7.0, 6.0, 5.0, 4.0, 3.0, 2.0, 1.0, -3.959, -4.1288, -4.4711, -4.4778, -4.5671, -4.6435, -4.7452, -4.7418, -4.7473, -4.8144, -4.7657, -4.8381, -4.9293, -4.9507, -4.9394, -4.9665, -4.9903, -5.0323, -5.0843, -5.1124, -5.1781, -5.183, -5.1838, -5.1959, -5.2151, -5.225, -5.2464, -5.1918, -5.2682, -5.2931, -5.2909, -3.4708, -4.1772, -4.2008, -4.2283, -4.3147, -4.3065, -4.3357, -4.3469, -4.3559, -4.4011, -4.5156, -4.6348, -4.718, -4.7384, -4.7914, -4.8114, -4.8773, -4.9057, -4.9268, -4.9615, -4.9535, -4.9837, -4.9702, -5.0087, -5.0374, -5.034, -5.1715, -5.1955, -5.2493, -5.2894, -4.1716, -3.8388, -4.166, -4.2652, -4.5546, -4.6015, -4.657, -4.7169, -4.7092, -4.7965, -4.5812, -4.8765, -4.9011, -4.9448, -5.0143, -5.0207, -5.1309, -5.1207, -5.1567, -5.1909, -5.2159, -5.2271, -5.2612, -5.2634, -5.3032, -5.3812, -5.3929, -5.4256, -5.458, -5.4884, -5.5082, -3.0652, -3.7645, -4.1342, -4.1677, -4.2534, -4.3402, -4.5313, -4.5677, -4.6058, -4.651, -4.6667, -4.7458, -4.7711, -4.8231, -4.8792, -4.9308, -4.9449, -4.9306, -4.9424, -5.0601, -5.0591, -5.1727, -5.2128, -5.4355, -5.391, -5.4492, -5.5636, -5.5586, -5.5955, -5.6489, -5.6277], \"loglift\": [30.0, 29.0, 28.0, 27.0, 26.0, 25.0, 24.0, 23.0, 22.0, 21.0, 20.0, 19.0, 18.0, 17.0, 16.0, 15.0, 14.0, 13.0, 12.0, 11.0, 10.0, 9.0, 8.0, 7.0, 6.0, 5.0, 4.0, 3.0, 2.0, 1.0, 1.059, 1.0589, 1.0585, 1.0585, 1.0584, 1.0583, 1.0582, 1.0581, 1.0581, 1.058, 1.058, 1.058, 1.0578, 1.0578, 1.0577, 1.0577, 1.0577, 1.0576, 1.0575, 1.0574, 1.0572, 1.0572, 1.0572, 1.0572, 1.0571, 1.0571, 1.057, 1.057, 1.0569, 1.0569, 1.0569, 1.338, 1.3373, 1.3373, 1.3372, 1.3371, 1.3371, 1.3371, 1.3371, 1.3371, 1.337, 1.3368, 1.3365, 1.3364, 1.3363, 1.3362, 1.3362, 1.336, 1.3359, 1.3359, 1.3358, 1.3358, 1.3358, 1.3357, 1.3357, 1.3356, 1.3356, 1.335, 1.335, 1.3348, 1.3347, 1.2812, 1.5485, 1.5481, 1.5479, 1.5472, 1.5472, 1.547, 1.5469, 1.5469, 1.5467, 1.5465, 1.5464, 1.5463, 1.546, 1.5459, 1.5458, 1.5456, 1.5455, 1.5453, 1.5452, 1.5451, 1.545, 1.5449, 1.5447, 1.5447, 1.5444, 1.5442, 1.544, 1.5438, 1.5438, 1.5437, 1.7201, 1.7195, 1.7189, 1.7189, 1.7187, 1.7185, 1.7181, 1.7179, 1.7178, 1.7177, 1.7176, 1.7174, 1.7174, 1.7172, 1.7169, 1.7168, 1.7167, 1.7167, 1.7167, 1.7162, 1.716, 1.7157, 1.7154, 1.7142, 1.7142, 1.714, 1.7133, 1.7131, 1.7129, 1.7126, 1.5633]}, \"token.table\": {\"Topic\": [3, 1, 2, 4, 3, 1, 2, 3, 4, 1, 1, 4, 1, 3, 4, 2, 3, 4, 3, 4, 2, 4, 4, 3, 4, 4, 4, 1, 2, 1, 2, 2, 4, 3, 2, 3, 2, 2, 3, 2, 4, 2, 3, 4, 1, 1, 3, 4, 1, 4, 1, 3, 4, 1, 1, 3, 2, 1, 2, 4, 3, 2, 3, 4, 1, 2, 2, 1, 3, 1, 2, 1, 2, 3, 4, 2, 4, 3, 4, 2, 4, 3, 4, 3, 1, 1, 1, 4, 3, 3, 2, 3, 1, 2, 4, 3, 3, 1, 4, 4, 4, 3, 2, 1, 2, 2, 2, 3, 4, 1, 2, 3, 4, 2, 2, 3, 3, 1, 1, 1, 2, 3, 4, 2, 1, 1, 1, 1, 1], \"Freq\": [0.9981157739828782, 0.9988216694547307, 0.9985886043048581, 0.9965537339275425, 0.9951102606289884, 0.050773562026587005, 0.060928274431904406, 0.030464137215952203, 0.8529958420466617, 0.9992417531888137, 0.9962461717750118, 0.9961656278244553, 0.9985049656390004, 0.9986101776336633, 0.9980417035815856, 0.9988199251468557, 0.9985964242151568, 0.9974142127814735, 0.9982745724650258, 0.9981655465659058, 0.9995735671788345, 0.9933957733950579, 0.9982909467578801, 0.9992416805269764, 0.9937971645215223, 0.9981994092249828, 0.9915517984049071, 0.9990087732804221, 0.9978190177359745, 0.9970024806075992, 0.9991930500938687, 0.9992719740558652, 0.9978345252275574, 0.9924894104987718, 0.9961696388487773, 0.9966638880943322, 0.9969089660121981, 0.9992302115292504, 0.9960084365011261, 0.9982800095535622, 0.9971329269740907, 0.9966211774869153, 0.9917037085725462, 0.9978794046198597, 0.9979592183601408, 0.99908763106826, 0.997018413889977, 0.999135461132989, 0.9983968074383047, 0.9978184155597629, 0.9985046441018118, 0.9958414542570304, 0.9926257445216651, 0.9971529377656558, 0.998383379423571, 0.9942812145293339, 0.9971126153942299, 0.9991726685436673, 0.9972650606784735, 0.9874221413327863, 0.997307113577527, 0.9973300607041901, 0.9952141586203217, 0.9973788082411037, 0.9990058230152866, 0.9981232499027698, 0.9958485045801649, 0.9993262529137181, 0.9950044775308567, 0.9968661639294324, 0.9989556250858777, 0.9987107026569148, 0.9979311356318804, 0.9990135138134602, 0.9962343671949228, 0.997083690644084, 0.99710325095944, 0.9944472981601599, 0.9992082764203588, 0.9971644103708445, 0.9969676601778146, 0.9962090205430016, 0.9958076550661792, 0.9989911941727341, 0.9966631544912208, 0.9972739537953184, 0.9995814836139405, 0.9905969603866522, 0.9942258629888232, 0.9976619853567249, 0.9984424902459441, 0.9982974891340737, 0.9952480588874322, 0.9989761312932557, 0.9958180772244701, 0.9927488741570479, 0.9963124224734489, 0.9974213819729152, 0.9949678949171402, 0.9955150714303419, 0.9958514285821936, 0.998428408682769, 0.9974146085897495, 0.9994259306628622, 0.9986544933712836, 0.9992220209317507, 0.9964218802491291, 0.9962796519258805, 0.9993428391171961, 0.0232119413903445, 0.9445474611917108, 0.014284271624827384, 0.017855339531034232, 0.9994314258793198, 0.9981647860825404, 0.9972866935089624, 0.9967708435879541, 0.9976087930655453, 0.9986496796169299, 0.9966355830275854, 0.997626883928225, 0.9954533350794895, 0.9986795396000401, 0.9988684755421964, 0.9957095306649109, 0.998369224559349, 0.998511923218526, 0.998454151148095, 0.9987206921990182], \"Term\": [\"allow\", \"amp\", \"back\", \"bad\", \"break\", \"bubble\", \"bubble\", \"bubble\", \"bubble\", \"business\", \"call\", \"care\", \"case\", \"cause\", \"close\", \"come\", \"control\", \"corona\", \"country\", \"covidiot\", \"day\", \"deal\", \"death\", \"die\", \"do\", \"due\", \"early\", \"economy\", \"end\", \"family\", \"find\", \"first\", \"food\", \"friend\", \"full\", \"get\", \"give\", \"go\", \"good\", \"government\", \"guideline\", \"happen\", \"hard\", \"health\", \"help\", \"high\", \"holiday\", \"home\", \"impact\", \"impose\", \"increase\", \"interview\", \"job\", \"know\", \"last\", \"learn\", \"level\", \"life\", \"local\", \"lock\", \"lockdown\", \"look\", \"lose\", \"make\", \"many\", \"mask\", \"mean\", \"measure\", \"meet\", \"month\", \"need\", \"new\", \"news\", \"number\", \"online\", \"open\", \"order\", \"part\", \"people\", \"place\", \"plan\", \"put\", \"quarantine\", \"read\", \"report\", \"restaurant\", \"restriction\", \"result\", \"right\", \"rise\", \"rule\", \"say\", \"school\", \"see\", \"seem\", \"shop\", \"spread\", \"start\", \"state\", \"stay\", \"stop\", \"story\", \"support\", \"take\", \"talk\", \"test\", \"thank\", \"thing\", \"think\", \"tier\", \"tier\", \"tier\", \"tier\", \"time\", \"today\", \"travel\", \"und\", \"use\", \"violence\", \"virus\", \"want\", \"watch\", \"way\", \"week\", \"well\", \"woman\", \"work\", \"world\", \"year\"]}, \"R\": 30, \"lambda.step\": 0.01, \"plot.opts\": {\"xlab\": \"PC1\", \"ylab\": \"PC2\"}, \"topic.order\": [4, 1, 3, 2]};\n",
       "\n",
       "function LDAvis_load_lib(url, callback){\n",
       "  var s = document.createElement('script');\n",
       "  s.src = url;\n",
       "  s.async = true;\n",
       "  s.onreadystatechange = s.onload = callback;\n",
       "  s.onerror = function(){console.warn(\"failed to load library \" + url);};\n",
       "  document.getElementsByTagName(\"head\")[0].appendChild(s);\n",
       "}\n",
       "\n",
       "if(typeof(LDAvis) !== \"undefined\"){\n",
       "   // already loaded: just create the visualization\n",
       "   !function(LDAvis){\n",
       "       new LDAvis(\"#\" + \"ldavis_el1701405877215282568680593600\", ldavis_el1701405877215282568680593600_data);\n",
       "   }(LDAvis);\n",
       "}else if(typeof define === \"function\" && define.amd){\n",
       "   // require.js is available: use it to load d3/LDAvis\n",
       "   require.config({paths: {d3: \"https://d3js.org/d3.v5\"}});\n",
       "   require([\"d3\"], function(d3){\n",
       "      window.d3 = d3;\n",
       "      LDAvis_load_lib(\"https://cdn.jsdelivr.net/gh/bmabey/pyLDAvis@3.4.0/pyLDAvis/js/ldavis.v3.0.0.js\", function(){\n",
       "        new LDAvis(\"#\" + \"ldavis_el1701405877215282568680593600\", ldavis_el1701405877215282568680593600_data);\n",
       "      });\n",
       "    });\n",
       "}else{\n",
       "    // require.js not available: dynamically load d3 & LDAvis\n",
       "    LDAvis_load_lib(\"https://d3js.org/d3.v5.js\", function(){\n",
       "         LDAvis_load_lib(\"https://cdn.jsdelivr.net/gh/bmabey/pyLDAvis@3.4.0/pyLDAvis/js/ldavis.v3.0.0.js\", function(){\n",
       "                 new LDAvis(\"#\" + \"ldavis_el1701405877215282568680593600\", ldavis_el1701405877215282568680593600_data);\n",
       "            })\n",
       "         });\n",
       "}\n",
       "</script>"
      ],
      "text/plain": [
       "PreparedData(topic_coordinates=              x         y  topics  cluster       Freq\n",
       "topic                                                \n",
       "3      0.304695  0.034727       1        1  34.651467\n",
       "0     -0.143534  0.241283       2        1  26.221374\n",
       "2     -0.094786 -0.201714       3        1  21.233343\n",
       "1     -0.066375 -0.074295       4        1  17.893817, topic_info=         Term         Freq        Total Category  logprob  loglift\n",
       "273    people  1091.000000  1091.000000  Default  30.0000  30.0000\n",
       "0         day  1066.000000  1066.000000  Default  29.0000  29.0000\n",
       "106     death   542.000000   542.000000  Default  28.0000  28.0000\n",
       "135       say   598.000000   598.000000  Default  27.0000  27.0000\n",
       "200       new   865.000000   865.000000  Default  26.0000  26.0000\n",
       "...       ...          ...          ...      ...      ...      ...\n",
       "110      seem    89.707207    90.377954   Topic4  -5.5636   1.7133\n",
       "620    result    90.161765    90.854307   Topic4  -5.5586   1.7131\n",
       "252      deal    86.896802    87.578388   Topic4  -5.5955   1.7129\n",
       "477      lock    82.377362    83.044522   Topic4  -5.6489   1.7126\n",
       "10102  bubble    84.136173    98.476447   Topic4  -5.6277   1.5633\n",
       "\n",
       "[153 rows x 6 columns], token_table=      Topic      Freq   Term\n",
       "term                        \n",
       "2049      3  0.998116  allow\n",
       "42        1  0.998822    amp\n",
       "548       2  0.998589   back\n",
       "347       4  0.996554    bad\n",
       "97        3  0.995110  break\n",
       "...     ...       ...    ...\n",
       "11        1  0.995710   well\n",
       "1353      1  0.998369  woman\n",
       "327       1  0.998512   work\n",
       "72        1  0.998454  world\n",
       "138       1  0.998721   year\n",
       "\n",
       "[129 rows x 3 columns], R=30, lambda_step=0.01, plot_opts={'xlab': 'PC1', 'ylab': 'PC2'}, topic_order=[4, 1, 3, 2])"
      ]
     },
     "execution_count": 51,
     "metadata": {},
     "output_type": "execute_result"
    }
   ],
   "source": [
    "# Visualize the topics\n",
    "pyLDAvis.enable_notebook()\n",
    "vis = pyLDAvis.gensim_models.prepare(lda_model, corpus, id2word)\n",
    "vis"
   ]
  },
  {
   "cell_type": "code",
   "execution_count": 52,
   "id": "c301077a",
   "metadata": {
    "colab": {
     "base_uri": "https://localhost:8080/"
    },
    "id": "c301077a",
    "outputId": "ad783e8f-e107-4307-c74a-3bc412f08b16"
   },
   "outputs": [
    {
     "name": "stdout",
     "output_type": "stream",
     "text": [
      "[(0,\n",
      "  '0.031*\"day\" + 0.015*\"tier\" + 0.015*\"need\" + 0.015*\"time\" + 0.015*\"go\" + '\n",
      "  '0.013*\"government\" + 0.013*\"end\" + 0.013*\"see\" + 0.013*\"week\" + '\n",
      "  '0.013*\"come\"'),\n",
      " (1,\n",
      "  '0.047*\"people\" + 0.023*\"death\" + 0.016*\"home\" + 0.015*\"make\" + '\n",
      "  '0.014*\"think\" + 0.013*\"due\" + 0.011*\"health\" + 0.010*\"impose\" + '\n",
      "  '0.010*\"close\" + 0.010*\"state\"'),\n",
      " (2,\n",
      "  '0.022*\"say\" + 0.016*\"die\" + 0.014*\"country\" + 0.011*\"rise\" + '\n",
      "  '0.010*\"interview\" + 0.010*\"read\" + 0.009*\"number\" + 0.009*\"get\" + '\n",
      "  '0.009*\"spread\" + 0.008*\"good\"'),\n",
      " (3,\n",
      "  '0.019*\"new\" + 0.016*\"case\" + 0.011*\"year\" + 0.011*\"restriction\" + '\n",
      "  '0.010*\"take\" + 0.010*\"work\" + 0.009*\"help\" + 0.009*\"amp\" + 0.009*\"woman\" + '\n",
      "  '0.009*\"violence\"')]\n"
     ]
    }
   ],
   "source": [
    "optimal_model = lda_model\n",
    "model_topics = optimal_model.show_topics(formatted=False)\n",
    "pprint(optimal_model.print_topics(num_words=10))"
   ]
  },
  {
   "cell_type": "code",
   "execution_count": 53,
   "id": "d2c73c95",
   "metadata": {
    "id": "d2c73c95"
   },
   "outputs": [],
   "source": [
    "def explore_topic(lda_model, topic_number, topn, output=True):\n",
    "    \"\"\"\n",
    "    accept a ldamodel, atopic number and topn vocabs of interest\n",
    "    prints a formatted list of the topn terms\n",
    "    \"\"\"\n",
    "    terms = []\n",
    "    for term, frequency in lda_model.show_topic(topic_number, topn=topn):\n",
    "        terms += [term]\n",
    "        if output:\n",
    "            print(u'{:20} {:.3f}'.format(term, round(frequency, 3)))\n",
    "    \n",
    "    return terms"
   ]
  },
  {
   "cell_type": "code",
   "execution_count": 54,
   "id": "14e1b4dd",
   "metadata": {
    "colab": {
     "base_uri": "https://localhost:8080/"
    },
    "id": "14e1b4dd",
    "outputId": "534f559a-3bd8-41b6-d685-9c2e147153a6"
   },
   "outputs": [
    {
     "name": "stdout",
     "output_type": "stream",
     "text": [
      "term                 frequency\n",
      "\n",
      "Topic 0 |---------------------\n",
      "\n",
      "day                  0.031\n",
      "tier                 0.015\n",
      "need                 0.015\n",
      "time                 0.015\n",
      "go                   0.015\n",
      "government           0.013\n",
      "end                  0.013\n",
      "see                  0.013\n",
      "week                 0.013\n",
      "come                 0.013\n",
      "Topic 1 |---------------------\n",
      "\n",
      "people               0.047\n",
      "death                0.023\n",
      "home                 0.016\n",
      "make                 0.015\n",
      "think                0.014\n",
      "due                  0.013\n",
      "health               0.011\n",
      "impose               0.010\n",
      "close                0.010\n",
      "state                0.010\n",
      "Topic 2 |---------------------\n",
      "\n",
      "say                  0.022\n",
      "die                  0.016\n",
      "country              0.014\n",
      "rise                 0.011\n",
      "interview            0.010\n",
      "read                 0.010\n",
      "number               0.009\n",
      "get                  0.009\n",
      "spread               0.009\n",
      "good                 0.008\n",
      "Topic 3 |---------------------\n",
      "\n",
      "new                  0.019\n",
      "case                 0.016\n",
      "year                 0.011\n",
      "restriction          0.011\n",
      "take                 0.010\n",
      "work                 0.010\n",
      "help                 0.009\n",
      "amp                  0.009\n",
      "woman                0.009\n",
      "violence             0.009\n"
     ]
    }
   ],
   "source": [
    "topic_summaries = []\n",
    "print(u'{:20} {}'.format(u'term', u'frequency') + u'\\n')\n",
    "for i in range(4):\n",
    "    print('Topic '+str(i)+' |---------------------\\n')\n",
    "    tmp = explore_topic(lda_model,topic_number=i, topn=10, output=True )\n",
    "#     print tmp[:5]\n",
    "    topic_summaries += [tmp[:5]]\n",
    "    print"
   ]
  }
 ],
 "metadata": {
  "colab": {
   "provenance": []
  },
  "kernelspec": {
   "display_name": "Python 3 (ipykernel)",
   "language": "python",
   "name": "python3"
  },
  "language_info": {
   "codemirror_mode": {
    "name": "ipython",
    "version": 3
   },
   "file_extension": ".py",
   "mimetype": "text/x-python",
   "name": "python",
   "nbconvert_exporter": "python",
   "pygments_lexer": "ipython3",
   "version": "3.9.7"
  }
 },
 "nbformat": 4,
 "nbformat_minor": 5
}
