{
 "cells": [
  {
   "cell_type": "code",
   "execution_count": 1,
   "metadata": {},
   "outputs": [
    {
     "name": "stdout",
     "output_type": "stream",
     "text": [
      "Requirement already satisfied: pip in /opt/anaconda3/lib/python3.8/site-packages (23.0.1)\r\n"
     ]
    }
   ],
   "source": [
    "!pip install --upgrade pip"
   ]
  },
  {
   "cell_type": "code",
   "execution_count": 2,
   "metadata": {},
   "outputs": [
    {
     "name": "stdout",
     "output_type": "stream",
     "text": [
      "Requirement already satisfied: snscrape in /opt/anaconda3/lib/python3.8/site-packages (0.6.2.20230320)\n",
      "Requirement already satisfied: pytz in /opt/anaconda3/lib/python3.8/site-packages (from snscrape) (2020.1)\n",
      "Requirement already satisfied: lxml in /opt/anaconda3/lib/python3.8/site-packages (from snscrape) (4.5.2)\n",
      "Requirement already satisfied: filelock in /opt/anaconda3/lib/python3.8/site-packages (from snscrape) (3.0.12)\n",
      "Requirement already satisfied: beautifulsoup4 in /opt/anaconda3/lib/python3.8/site-packages (from snscrape) (4.8.2)\n",
      "Requirement already satisfied: requests[socks] in /opt/anaconda3/lib/python3.8/site-packages (from snscrape) (2.24.0)\n",
      "Requirement already satisfied: soupsieve>=1.2 in /opt/anaconda3/lib/python3.8/site-packages (from beautifulsoup4->snscrape) (2.0.1)\n",
      "Requirement already satisfied: idna<3,>=2.5 in /opt/anaconda3/lib/python3.8/site-packages (from requests[socks]->snscrape) (2.10)\n",
      "Requirement already satisfied: certifi>=2017.4.17 in /opt/anaconda3/lib/python3.8/site-packages (from requests[socks]->snscrape) (2022.12.7)\n",
      "Requirement already satisfied: urllib3!=1.25.0,!=1.25.1,<1.26,>=1.21.1 in /opt/anaconda3/lib/python3.8/site-packages (from requests[socks]->snscrape) (1.25.11)\n",
      "Requirement already satisfied: chardet<4,>=3.0.2 in /opt/anaconda3/lib/python3.8/site-packages (from requests[socks]->snscrape) (3.0.4)\n",
      "Requirement already satisfied: PySocks!=1.5.7,>=1.5.6 in /opt/anaconda3/lib/python3.8/site-packages (from requests[socks]->snscrape) (1.7.1)\n"
     ]
    }
   ],
   "source": [
    "!pip install --upgrade snscrape"
   ]
  },
  {
   "cell_type": "code",
   "execution_count": 8,
   "metadata": {},
   "outputs": [],
   "source": [
    "import snscrape.modules.twitter as sntwitter\n",
    "import pandas as pd\n",
    "import numpy as np\n",
    "import os"
   ]
  },
  {
   "cell_type": "code",
   "execution_count": 9,
   "metadata": {
    "scrolled": true
   },
   "outputs": [
    {
     "name": "stderr",
     "output_type": "stream",
     "text": [
      "<ipython-input-9-e01019e7501c>:19: DeprecatedFeatureWarning: content is deprecated, use rawContent instead\n",
      "  tweets_list.append([tweet.date, tweet.id, tweet.content, tweet.user.username, tweet.coordinates, tweet.place])\n"
     ]
    }
   ],
   "source": [
    "# since:2020-03-16 until:2020-03-30 - Mar\n",
    "# since:2020-01-27 until:2020-03-02 - Jan_Mar\n",
    "# since:2020-04-27 until:2020-11-30 - May_Nov\n",
    "# China Data:\n",
    "# since:2020-01-23 until:2020-04-08 - Jan_Apr_2020\n",
    "# since:2022-04-01 until:2022-06-01 - May_June_2022\n",
    "\n",
    "# Creating list to append tweet data \n",
    "tweets_list = []\n",
    "\n",
    "# search terms (covid19 lockdown)\n",
    "search_terms = '疫情 封城'\n",
    "\n",
    "# Using TwitterSearchScraper to scrape data and append tweets to list\n",
    "for i, tweet in enumerate(sntwitter.TwitterSearchScraper(search_terms + ' since:2022-04-01 until:2022-06-01').get_items()):\n",
    "    if i > 5000:\n",
    "        break\n",
    "    # declare the attributes to be returned\n",
    "    tweets_list.append([tweet.date, tweet.id, tweet.content, tweet.user.username, tweet.coordinates, tweet.place])\n",
    "\n",
    "# Creating a dataframe from the tweets list above\n",
    "tweets_df = pd.DataFrame(tweets_list, columns=['Datetime', 'Tweet Id', 'Text', 'Username', 'Coordinates', 'Place'])"
   ]
  },
  {
   "cell_type": "code",
   "execution_count": 10,
   "metadata": {},
   "outputs": [
    {
     "data": {
      "text/html": [
       "<div>\n",
       "<style scoped>\n",
       "    .dataframe tbody tr th:only-of-type {\n",
       "        vertical-align: middle;\n",
       "    }\n",
       "\n",
       "    .dataframe tbody tr th {\n",
       "        vertical-align: top;\n",
       "    }\n",
       "\n",
       "    .dataframe thead th {\n",
       "        text-align: right;\n",
       "    }\n",
       "</style>\n",
       "<table border=\"1\" class=\"dataframe\">\n",
       "  <thead>\n",
       "    <tr style=\"text-align: right;\">\n",
       "      <th></th>\n",
       "      <th>Datetime</th>\n",
       "      <th>Tweet Id</th>\n",
       "      <th>Text</th>\n",
       "      <th>Username</th>\n",
       "      <th>Coordinates</th>\n",
       "      <th>Place</th>\n",
       "    </tr>\n",
       "  </thead>\n",
       "  <tbody>\n",
       "    <tr>\n",
       "      <th>0</th>\n",
       "      <td>2022-05-31 23:38:42+00:00</td>\n",
       "      <td>1531782249464537088</td>\n",
       "      <td>上海宣布全面重启 封城两月市民感慨“百感交集”\\n\\n中国最大城市上海因新冠疫情被封锁逾两个...</td>\n",
       "      <td>wufanus</td>\n",
       "      <td>None</td>\n",
       "      <td>None</td>\n",
       "    </tr>\n",
       "    <tr>\n",
       "      <th>1</th>\n",
       "      <td>2022-05-31 23:10:59+00:00</td>\n",
       "      <td>1531775274085490690</td>\n",
       "      <td>5月29日上海市召开疫情防控新闻发布会，有关领导正式否定了“封城”的说法，表示“上海从未宣布...</td>\n",
       "      <td>Jessie2021626</td>\n",
       "      <td>None</td>\n",
       "      <td>None</td>\n",
       "    </tr>\n",
       "    <tr>\n",
       "      <th>2</th>\n",
       "      <td>2022-05-31 22:39:12+00:00</td>\n",
       "      <td>1531767276453568512</td>\n",
       "      <td>@peterliu2121 @8DTzwKSsKMmEwNV @firelemond @Re...</td>\n",
       "      <td>gWRcc6GUUKW7IyC</td>\n",
       "      <td>None</td>\n",
       "      <td>None</td>\n",
       "    </tr>\n",
       "    <tr>\n",
       "      <th>3</th>\n",
       "      <td>2022-05-31 21:43:20+00:00</td>\n",
       "      <td>1531753217633071104</td>\n",
       "      <td>上海疫情真的结束了吗？ \\n\\n#盘古时讯   #封城  #中共国式防疫 https://t...</td>\n",
       "      <td>EZ2p8</td>\n",
       "      <td>None</td>\n",
       "      <td>None</td>\n",
       "    </tr>\n",
       "    <tr>\n",
       "      <th>4</th>\n",
       "      <td>2022-05-31 21:38:33+00:00</td>\n",
       "      <td>1531752016183103488</td>\n",
       "      <td>上海市府“上海官方从来没有宣布过上海封城，所以也不存在解封一说，上海居民被封在家里全是居委会...</td>\n",
       "      <td>eCpP7JhCZJa8cT3</td>\n",
       "      <td>None</td>\n",
       "      <td>None</td>\n",
       "    </tr>\n",
       "    <tr>\n",
       "      <th>...</th>\n",
       "      <td>...</td>\n",
       "      <td>...</td>\n",
       "      <td>...</td>\n",
       "      <td>...</td>\n",
       "      <td>...</td>\n",
       "      <td>...</td>\n",
       "    </tr>\n",
       "    <tr>\n",
       "      <th>4996</th>\n",
       "      <td>2022-04-08 23:29:49+00:00</td>\n",
       "      <td>1512573457820696578</td>\n",
       "      <td>@Jam79922967 上海主要是数字发布系统失控，不是疫情失控。否则习近平也不愿意上海这...</td>\n",
       "      <td>lingxia273d</td>\n",
       "      <td>None</td>\n",
       "      <td>None</td>\n",
       "    </tr>\n",
       "    <tr>\n",
       "      <th>4997</th>\n",
       "      <td>2022-04-08 23:23:57+00:00</td>\n",
       "      <td>1512571984127066116</td>\n",
       "      <td>淘宝给女朋友买东西，三月多买了个深圳的，结果深圳疫情，发货了物流动不了。等了半个月又买了个上...</td>\n",
       "      <td>MKD007</td>\n",
       "      <td>None</td>\n",
       "      <td>None</td>\n",
       "    </tr>\n",
       "    <tr>\n",
       "      <th>4998</th>\n",
       "      <td>2022-04-08 23:10:26+00:00</td>\n",
       "      <td>1512568579547447301</td>\n",
       "      <td>上海封城，對住在中國其他城市的人來說，至少有一個啓示：連上海都會封城，你那裡更是隨時會封。所...</td>\n",
       "      <td>tansunit</td>\n",
       "      <td>None</td>\n",
       "      <td>None</td>\n",
       "    </tr>\n",
       "    <tr>\n",
       "      <th>4999</th>\n",
       "      <td>2022-04-08 22:58:28+00:00</td>\n",
       "      <td>1512565567613374467</td>\n",
       "      <td>@198920042014 疫情封城，聚会再次暂停，不知道下一次在什么时候了</td>\n",
       "      <td>k3FlDPg4qF0ObTG</td>\n",
       "      <td>None</td>\n",
       "      <td>None</td>\n",
       "    </tr>\n",
       "    <tr>\n",
       "      <th>5000</th>\n",
       "      <td>2022-04-08 22:48:49+00:00</td>\n",
       "      <td>1512563139002482691</td>\n",
       "      <td>@sujing110 国内从来就没有这些福利，疫情是控制了，但是很多公司也倒了，很多人因为封...</td>\n",
       "      <td>gifhome</td>\n",
       "      <td>None</td>\n",
       "      <td>None</td>\n",
       "    </tr>\n",
       "  </tbody>\n",
       "</table>\n",
       "<p>5001 rows × 6 columns</p>\n",
       "</div>"
      ],
      "text/plain": [
       "                      Datetime             Tweet Id  \\\n",
       "0    2022-05-31 23:38:42+00:00  1531782249464537088   \n",
       "1    2022-05-31 23:10:59+00:00  1531775274085490690   \n",
       "2    2022-05-31 22:39:12+00:00  1531767276453568512   \n",
       "3    2022-05-31 21:43:20+00:00  1531753217633071104   \n",
       "4    2022-05-31 21:38:33+00:00  1531752016183103488   \n",
       "...                        ...                  ...   \n",
       "4996 2022-04-08 23:29:49+00:00  1512573457820696578   \n",
       "4997 2022-04-08 23:23:57+00:00  1512571984127066116   \n",
       "4998 2022-04-08 23:10:26+00:00  1512568579547447301   \n",
       "4999 2022-04-08 22:58:28+00:00  1512565567613374467   \n",
       "5000 2022-04-08 22:48:49+00:00  1512563139002482691   \n",
       "\n",
       "                                                   Text         Username  \\\n",
       "0     上海宣布全面重启 封城两月市民感慨“百感交集”\\n\\n中国最大城市上海因新冠疫情被封锁逾两个...          wufanus   \n",
       "1     5月29日上海市召开疫情防控新闻发布会，有关领导正式否定了“封城”的说法，表示“上海从未宣布...    Jessie2021626   \n",
       "2     @peterliu2121 @8DTzwKSsKMmEwNV @firelemond @Re...  gWRcc6GUUKW7IyC   \n",
       "3     上海疫情真的结束了吗？ \\n\\n#盘古时讯   #封城  #中共国式防疫 https://t...            EZ2p8   \n",
       "4     上海市府“上海官方从来没有宣布过上海封城，所以也不存在解封一说，上海居民被封在家里全是居委会...  eCpP7JhCZJa8cT3   \n",
       "...                                                 ...              ...   \n",
       "4996  @Jam79922967 上海主要是数字发布系统失控，不是疫情失控。否则习近平也不愿意上海这...      lingxia273d   \n",
       "4997  淘宝给女朋友买东西，三月多买了个深圳的，结果深圳疫情，发货了物流动不了。等了半个月又买了个上...           MKD007   \n",
       "4998  上海封城，對住在中國其他城市的人來說，至少有一個啓示：連上海都會封城，你那裡更是隨時會封。所...         tansunit   \n",
       "4999             @198920042014 疫情封城，聚会再次暂停，不知道下一次在什么时候了  k3FlDPg4qF0ObTG   \n",
       "5000  @sujing110 国内从来就没有这些福利，疫情是控制了，但是很多公司也倒了，很多人因为封...          gifhome   \n",
       "\n",
       "     Coordinates Place  \n",
       "0           None  None  \n",
       "1           None  None  \n",
       "2           None  None  \n",
       "3           None  None  \n",
       "4           None  None  \n",
       "...          ...   ...  \n",
       "4996        None  None  \n",
       "4997        None  None  \n",
       "4998        None  None  \n",
       "4999        None  None  \n",
       "5000        None  None  \n",
       "\n",
       "[5001 rows x 6 columns]"
      ]
     },
     "execution_count": 10,
     "metadata": {},
     "output_type": "execute_result"
    }
   ],
   "source": [
    "tweets_df"
   ]
  },
  {
   "cell_type": "code",
   "execution_count": 11,
   "metadata": {},
   "outputs": [
    {
     "name": "stdout",
     "output_type": "stream",
     "text": [
      "民调：仅9%俄公民计划今年夏天出国度假\n",
      "小编评:\n",
      "这几年中国人是罕见的几次因为疫情和封城没有出国旅行的\n",
      "往年都是因为没有钱\n",
      "👌🏻👌🏻👌🏻\n",
      "https://t.co/hFCRThjGLb \n",
      "https://t.co/Bl0zXamXE9\n",
      "@RFI_Cn 别造谣了，中国是动态清零，疫情严重的地方才会封城，别的地方都很开放！ https://t.co/4PZXn94RTb\n",
      "朝鮮疫情死亡人數增加 「封城鎖國」進入第四日 https://t.co/aKgrq4HRTs via @dajiyuan \n",
      "也许有人在静待朝鲜防疫的结果呢，因为他觉得他可以效仿朝鲜\n",
      "連上廁所也得計畫封控? 北京疫情公廁1傳40 政府宣布禁兩人同時如廁 鄭州封城一週民眾搶物資塞爆賣場 莊瑞雄:中國已經不正常了｜ #鄭弘儀 主持｜【 #鄭知道了 PART2】20220504｜三立iNEWS https://t.co/A1qdzRK2Z2 https://t.co/Mxbq6FMc5u\n",
      "中國疫情亂象多!清出民生經濟大問題?!\n",
      "上海封城重創供應鏈!蘋果Q3營收減少80億美元?!\n",
      "Fed本周升息2碼!美元走強!亞幣競貶!\n",
      "\n",
      "影片連結🔗\n",
      "https://t.co/oRT3d5Lbq2\n",
      "\n",
      "年代向錢看Facebook👉 https://t.co/GSYDobpl6w\n",
      "年代向錢看YT頻道👉https://t.co/vZAH18q0aP\n",
      "年代向錢看IG👉https://t.co/YK8YLXyE4u https://t.co/R75VLQdlZb\n",
      "習近平從廣西全票當選二十大黨代表之時正值上海封城民怨沸騰，北京疫情防控形勢嚴峻的複雜時刻。 “中國戰略分析智庫” 研究員鄧聿文 @dyw1968316認為，上海疫情對習的政治權威有巨大衝擊，但不大可能對他的連任產生實質性影響。時事大家談完整版：https://t.co/RTX9MOEfzb https://t.co/ApmWCNdTFF\n",
      "分享一首歌曲，《這上海有那麼多人》BY养乐多&amp;梦婆。\n",
      "\n",
      "天佑上海早日康复🙏🙏\n",
      "\n",
      "残忍的是没有人性的封城封区，天理难容。前阵子看到一些自媒体报道上海控制疫情不是很好吗，怎么就突然一下变成这样了......关键是美国现在连屁都不放一下, 全世界集体沉默呀😡😡真的很想骂人。\n",
      "https://t.co/zPkyd7FiRT\n",
      "屯粮！封城！感慨疫情中的上海，这份屯粮生存指南一定要收藏好 https://t.co/aEnEvpj10O\n",
      "居安思危—“非常时期”的城市生存指南 https://t.co/MQTyzwuMRT\n",
      "备战备荒清单 https://t.co/A8iLciUeo5\n",
      "假设城市发生大规模暴乱，作为个人如何生存或逃命？ https://t.co/pI9jSCdUkF https://t.co/5W8bgzBhwj\n",
      "這是高雄市政府製作的圖：高雄已經壓下來疫情了，新北封城秀侯一路攀升。至於嘴臭的檳榔，也會很快追趕上他的擺爛兄弟。 https://t.co/Qi30h9iRT6\n",
      "中國疫情炸鍋”軍管+封城”慘兮兮…民眾直擊坦克車進蘇州想用武力來鎮壓？上海突強徵民宅做隔離區引民怨 習近平陷最大危機？ ｜ #呂惠敏 主持｜【 #驚爆新聞線 PART2】20220416｜三立新聞台 https://t.co/SapCkXll5Q https://t.co/Q5HBmjgEzy\n",
      "@h5LPyKL7TP6jjop @MiaoYeM 上海封城是为了要和美国大战，与疫情，与感染人数无关。🤣🤣🤣 https://t.co/sRTWJhIxcF\n",
      "中國疫情封城影響 韓國3月汽車出口下降7.7％ https://t.co/IRTwikIXw8\n",
      "這波疫情封城對中國人的精神衝擊不低，但又不久會忘記。 RT @uponsnow: 希望已经得到缓解了……太惨，上海这是已经开启humanitarian crisis模式了，列强不闻不问//纠正：不是不闻不问，是负值：美国国务院发出针对上海的travel advisory 同时自愿撤离驻沪总领事馆非必要人员  https://t.co/naehxY8yli\n"
     ]
    }
   ],
   "source": [
    "retweets = tweets_df['Text']\n",
    "# retweets\n",
    "for text in retweets:\n",
    "    if 'RT' in text:\n",
    "        print(text)"
   ]
  },
  {
   "cell_type": "code",
   "execution_count": 12,
   "metadata": {},
   "outputs": [],
   "source": [
    "# Export to a CSV\n",
    "\n",
    "path = \"./Twitter_Data_Chinese/\"\n",
    "if not os.path.exists(path):\n",
    "        os.makedirs(path)\n",
    "\n",
    "tweets_df.to_csv('./Twitter_Data_Chinese/Twitter_May_June_2022_5000_chinese.csv', index=False) "
   ]
  },
  {
   "cell_type": "code",
   "execution_count": null,
   "metadata": {},
   "outputs": [],
   "source": []
  }
 ],
 "metadata": {
  "kernelspec": {
   "display_name": "Python 3",
   "language": "python",
   "name": "python3"
  },
  "language_info": {
   "codemirror_mode": {
    "name": "ipython",
    "version": 3
   },
   "file_extension": ".py",
   "mimetype": "text/x-python",
   "name": "python",
   "nbconvert_exporter": "python",
   "pygments_lexer": "ipython3",
   "version": "3.8.3"
  }
 },
 "nbformat": 4,
 "nbformat_minor": 4
}
