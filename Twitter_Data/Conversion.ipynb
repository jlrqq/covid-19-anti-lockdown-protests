{
 "cells": [
  {
   "cell_type": "code",
   "execution_count": 20,
   "id": "89e8b9cd",
   "metadata": {},
   "outputs": [],
   "source": [
    "import pandas as pd\n",
    "import numpy as np\n",
    "import re"
   ]
  },
  {
   "cell_type": "code",
   "execution_count": 44,
   "id": "f59e93e1",
   "metadata": {},
   "outputs": [],
   "source": [
    "df = pd.read_excel(\"./Twitter_Data_Chinese/en.Twitter_May_June_2022_5000_chinese.xlsx\")"
   ]
  },
  {
   "cell_type": "code",
   "execution_count": 45,
   "id": "12a47b14",
   "metadata": {},
   "outputs": [],
   "source": [
    "# df['Text'] = df['Text'].str.replace('#',' ')\n",
    "# df['original_text'] = df['original_text'].str.replace('#',' ')"
   ]
  },
  {
   "cell_type": "code",
   "execution_count": 46,
   "id": "17a3d211",
   "metadata": {},
   "outputs": [
    {
     "data": {
      "text/html": [
       "<div>\n",
       "<style scoped>\n",
       "    .dataframe tbody tr th:only-of-type {\n",
       "        vertical-align: middle;\n",
       "    }\n",
       "\n",
       "    .dataframe tbody tr th {\n",
       "        vertical-align: top;\n",
       "    }\n",
       "\n",
       "    .dataframe thead th {\n",
       "        text-align: right;\n",
       "    }\n",
       "</style>\n",
       "<table border=\"1\" class=\"dataframe\">\n",
       "  <thead>\n",
       "    <tr style=\"text-align: right;\">\n",
       "      <th></th>\n",
       "      <th>Datetime</th>\n",
       "      <th>Tweet Id</th>\n",
       "      <th>text</th>\n",
       "      <th>usernames</th>\n",
       "      <th>Stomach</th>\n",
       "      <th>Place</th>\n",
       "    </tr>\n",
       "  </thead>\n",
       "  <tbody>\n",
       "    <tr>\n",
       "      <th>0</th>\n",
       "      <td>2022-05-31 23:38:42 + 00:00</td>\n",
       "      <td>1531782249464537088</td>\n",
       "      <td>Shanghai announced a complete restart of the c...</td>\n",
       "      <td>Wufanus</td>\n",
       "      <td>NaN</td>\n",
       "      <td>NaN</td>\n",
       "    </tr>\n",
       "    <tr>\n",
       "      <th>1</th>\n",
       "      <td>2022-05-31 23:10:59 + 00:00</td>\n",
       "      <td>1531775274085490690</td>\n",
       "      <td>On May 29, Shanghai held a press conference on...</td>\n",
       "      <td>Jessie2021626</td>\n",
       "      <td>NaN</td>\n",
       "      <td>NaN</td>\n",
       "    </tr>\n",
       "    <tr>\n",
       "      <th>2</th>\n",
       "      <td>2022-05-31 22:39:12 + 00:00</td>\n",
       "      <td>1531767276453568512</td>\n",
       "      <td>@peterliu2121 @8DTzwKSsKMmEwNV @firelemond @Re...</td>\n",
       "      <td>gwrcc6guukw7iyc</td>\n",
       "      <td>NaN</td>\n",
       "      <td>NaN</td>\n",
       "    </tr>\n",
       "    <tr>\n",
       "      <th>3</th>\n",
       "      <td>2022-05-31 21:43:20 + 00:00</td>\n",
       "      <td>1531753217633071104</td>\n",
       "      <td>Is the Shanghai epidemic really over? \\n\\nPang...</td>\n",
       "      <td>ez2p8</td>\n",
       "      <td>NaN</td>\n",
       "      <td>NaN</td>\n",
       "    </tr>\n",
       "    <tr>\n",
       "      <th>4</th>\n",
       "      <td>2022-05-31 21:38:33 + 00:00</td>\n",
       "      <td>1531752016183103488</td>\n",
       "      <td>The Shanghai government “The Shanghai governme...</td>\n",
       "      <td>ecpp7jhczja8ct3</td>\n",
       "      <td>NaN</td>\n",
       "      <td>NaN</td>\n",
       "    </tr>\n",
       "  </tbody>\n",
       "</table>\n",
       "</div>"
      ],
      "text/plain": [
       "                      Datetime             Tweet Id  \\\n",
       "0  2022-05-31 23:38:42 + 00:00  1531782249464537088   \n",
       "1  2022-05-31 23:10:59 + 00:00  1531775274085490690   \n",
       "2  2022-05-31 22:39:12 + 00:00  1531767276453568512   \n",
       "3  2022-05-31 21:43:20 + 00:00  1531753217633071104   \n",
       "4  2022-05-31 21:38:33 + 00:00  1531752016183103488   \n",
       "\n",
       "                                                text        usernames Stomach  \\\n",
       "0  Shanghai announced a complete restart of the c...          Wufanus     NaN   \n",
       "1  On May 29, Shanghai held a press conference on...    Jessie2021626     NaN   \n",
       "2  @peterliu2121 @8DTzwKSsKMmEwNV @firelemond @Re...  gwrcc6guukw7iyc     NaN   \n",
       "3  Is the Shanghai epidemic really over? \\n\\nPang...            ez2p8     NaN   \n",
       "4  The Shanghai government “The Shanghai governme...  ecpp7jhczja8ct3     NaN   \n",
       "\n",
       "  Place  \n",
       "0   NaN  \n",
       "1   NaN  \n",
       "2   NaN  \n",
       "3   NaN  \n",
       "4   NaN  "
      ]
     },
     "execution_count": 46,
     "metadata": {},
     "output_type": "execute_result"
    }
   ],
   "source": [
    "df.head()"
   ]
  },
  {
   "cell_type": "code",
   "execution_count": 54,
   "id": "5df315a4",
   "metadata": {},
   "outputs": [],
   "source": [
    "text = df['text'].tolist()"
   ]
  },
  {
   "cell_type": "code",
   "execution_count": 49,
   "id": "c1521243",
   "metadata": {},
   "outputs": [],
   "source": [
    "temp = []"
   ]
  },
  {
   "cell_type": "code",
   "execution_count": 50,
   "id": "70762290",
   "metadata": {},
   "outputs": [],
   "source": [
    "for t in text:\n",
    "    te = re.sub(r'[\\u4e00-\\u9fff]+','',str(t))\n",
    "    temp.append(te)"
   ]
  },
  {
   "cell_type": "code",
   "execution_count": 55,
   "id": "83420489",
   "metadata": {},
   "outputs": [],
   "source": [
    "for t in text:\n",
    "    find = re.findall(r'[\\u4e00-\\u9fff]+',str(t))\n",
    "    if find:\n",
    "        print(find)"
   ]
  },
  {
   "cell_type": "code",
   "execution_count": 52,
   "id": "eb228c1a",
   "metadata": {},
   "outputs": [],
   "source": [
    "df['text'] = temp"
   ]
  },
  {
   "cell_type": "code",
   "execution_count": 56,
   "id": "c086d7e7",
   "metadata": {},
   "outputs": [],
   "source": [
    "df.to_csv(\"./Twitter_Data_Chinese/en.Twitter_May_June_2022_5000_chinese.csv\", index=False)"
   ]
  },
  {
   "cell_type": "code",
   "execution_count": null,
   "id": "a737fddd",
   "metadata": {},
   "outputs": [],
   "source": [
    "# df = df.iloc[: , 1:]\n",
    "# df = df.rename(columns = {'Stomach':'Coordinates'})\n",
    "# df.head()"
   ]
  },
  {
   "cell_type": "code",
   "execution_count": null,
   "id": "0a850bfc",
   "metadata": {},
   "outputs": [],
   "source": [
    "# df.to_csv(\"./Twitter_Data_Chinese/en.Twitter_May_June_2022_5000_chinese.csv\", index=False)"
   ]
  },
  {
   "cell_type": "code",
   "execution_count": null,
   "id": "3e61a549",
   "metadata": {},
   "outputs": [],
   "source": []
  }
 ],
 "metadata": {
  "kernelspec": {
   "display_name": "Python_39",
   "language": "python",
   "name": "python_39"
  },
  "language_info": {
   "codemirror_mode": {
    "name": "ipython",
    "version": 3
   },
   "file_extension": ".py",
   "mimetype": "text/x-python",
   "name": "python",
   "nbconvert_exporter": "python",
   "pygments_lexer": "ipython3",
   "version": "3.7.3"
  }
 },
 "nbformat": 4,
 "nbformat_minor": 5
}
