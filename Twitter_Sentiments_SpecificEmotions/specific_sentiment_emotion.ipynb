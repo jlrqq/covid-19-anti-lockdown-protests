{
 "cells": [
  {
   "cell_type": "code",
   "execution_count": 57,
   "id": "advance-reference",
   "metadata": {
    "scrolled": false
   },
   "outputs": [
    {
     "name": "stderr",
     "output_type": "stream",
     "text": [
      "[nltk_data] Downloading package stopwords to C:\\Users\\Chung\n",
      "[nltk_data]     KY\\AppData\\Roaming\\nltk_data...\n",
      "[nltk_data]   Package stopwords is already up-to-date!\n"
     ]
    }
   ],
   "source": [
    "import pandas as pd\n",
    "import numpy as np\n",
    "import nltk\n",
    "import re\n",
    "from nltk.tokenize import RegexpTokenizer\n",
    "from scipy.spatial.distance import cdist\n",
    "from sklearn.metrics import silhouette_score\n",
    "from nltk.stem.porter import *\n",
    "from nltk.stem import WordNetLemmatizer\n",
    "nltk.download('stopwords')\n",
    "from nltk.corpus import stopwords\n",
    "from sklearn.feature_extraction.text import TfidfVectorizer\n",
    "from sklearn.metrics.pairwise import cosine_similarity\n",
    "from sklearn.cluster import KMeans\n",
    "import matplotlib.pyplot as plt\n",
    "\n",
    "database = pd.read_csv('en.Twitter_May_June_2022_5000_chinese.csv')\n",
    "database.text=database.text.astype(str)"
   ]
  },
  {
   "cell_type": "code",
   "execution_count": 58,
   "id": "statutory-helena",
   "metadata": {
    "scrolled": true
   },
   "outputs": [
    {
     "data": {
      "text/html": [
       "<div>\n",
       "<style scoped>\n",
       "    .dataframe tbody tr th:only-of-type {\n",
       "        vertical-align: middle;\n",
       "    }\n",
       "\n",
       "    .dataframe tbody tr th {\n",
       "        vertical-align: top;\n",
       "    }\n",
       "\n",
       "    .dataframe thead th {\n",
       "        text-align: right;\n",
       "    }\n",
       "</style>\n",
       "<table border=\"1\" class=\"dataframe\">\n",
       "  <thead>\n",
       "    <tr style=\"text-align: right;\">\n",
       "      <th></th>\n",
       "      <th>Datetime</th>\n",
       "      <th>Tweet Id</th>\n",
       "      <th>text</th>\n",
       "      <th>usernames</th>\n",
       "      <th>Stomach</th>\n",
       "      <th>Place</th>\n",
       "    </tr>\n",
       "  </thead>\n",
       "  <tbody>\n",
       "    <tr>\n",
       "      <th>0</th>\n",
       "      <td>2022-05-31 23:38:42 + 00:00</td>\n",
       "      <td>1531782249464537088</td>\n",
       "      <td>Shanghai announced a complete restart of the c...</td>\n",
       "      <td>Wufanus</td>\n",
       "      <td>NaN</td>\n",
       "      <td>NaN</td>\n",
       "    </tr>\n",
       "    <tr>\n",
       "      <th>1</th>\n",
       "      <td>2022-05-31 23:10:59 + 00:00</td>\n",
       "      <td>1531775274085490690</td>\n",
       "      <td>On May 29, Shanghai held a press conference on...</td>\n",
       "      <td>Jessie2021626</td>\n",
       "      <td>NaN</td>\n",
       "      <td>NaN</td>\n",
       "    </tr>\n",
       "    <tr>\n",
       "      <th>2</th>\n",
       "      <td>2022-05-31 22:39:12 + 00:00</td>\n",
       "      <td>1531767276453568512</td>\n",
       "      <td>@peterliu2121 @8DTzwKSsKMmEwNV @firelemond @Re...</td>\n",
       "      <td>gwrcc6guukw7iyc</td>\n",
       "      <td>NaN</td>\n",
       "      <td>NaN</td>\n",
       "    </tr>\n",
       "    <tr>\n",
       "      <th>3</th>\n",
       "      <td>2022-05-31 21:43:20 + 00:00</td>\n",
       "      <td>1531753217633071104</td>\n",
       "      <td>Is the Shanghai epidemic really over? \\r\\n\\r\\n...</td>\n",
       "      <td>ez2p8</td>\n",
       "      <td>NaN</td>\n",
       "      <td>NaN</td>\n",
       "    </tr>\n",
       "    <tr>\n",
       "      <th>4</th>\n",
       "      <td>2022-05-31 21:38:33 + 00:00</td>\n",
       "      <td>1531752016183103488</td>\n",
       "      <td>The Shanghai government “The Shanghai governme...</td>\n",
       "      <td>ecpp7jhczja8ct3</td>\n",
       "      <td>NaN</td>\n",
       "      <td>NaN</td>\n",
       "    </tr>\n",
       "    <tr>\n",
       "      <th>...</th>\n",
       "      <td>...</td>\n",
       "      <td>...</td>\n",
       "      <td>...</td>\n",
       "      <td>...</td>\n",
       "      <td>...</td>\n",
       "      <td>...</td>\n",
       "    </tr>\n",
       "    <tr>\n",
       "      <th>4997</th>\n",
       "      <td>2022-04-08 23:29:49 + 00:00</td>\n",
       "      <td>1512573457820696578</td>\n",
       "      <td>@Jam79922967 The main thing in Shanghai is tha...</td>\n",
       "      <td>lingxia 273d</td>\n",
       "      <td>NaN</td>\n",
       "      <td>NaN</td>\n",
       "    </tr>\n",
       "    <tr>\n",
       "      <th>4998</th>\n",
       "      <td>2022-04-08 23:23:57 + 00:00</td>\n",
       "      <td>1512571984127066116</td>\n",
       "      <td>Taobao bought things for my girlfriend and bou...</td>\n",
       "      <td>MKD007</td>\n",
       "      <td>NaN</td>\n",
       "      <td>NaN</td>\n",
       "    </tr>\n",
       "    <tr>\n",
       "      <th>4999</th>\n",
       "      <td>2022-04-08 23:10:26 + 00:00</td>\n",
       "      <td>1512568579547447301</td>\n",
       "      <td>The closure of Shanghai has at least one revel...</td>\n",
       "      <td>Tansunit</td>\n",
       "      <td>NaN</td>\n",
       "      <td>NaN</td>\n",
       "    </tr>\n",
       "    <tr>\n",
       "      <th>5000</th>\n",
       "      <td>2022-04-08 22:58:28 + 00:00</td>\n",
       "      <td>1512565567613374467</td>\n",
       "      <td>@198920042014 The epidemic has closed down, th...</td>\n",
       "      <td>k3fldpg4qf0obtg</td>\n",
       "      <td>NaN</td>\n",
       "      <td>NaN</td>\n",
       "    </tr>\n",
       "    <tr>\n",
       "      <th>5001</th>\n",
       "      <td>2022-04-08 22:48:49 + 00:00</td>\n",
       "      <td>1512563139002482691</td>\n",
       "      <td>@sujing110 There have never been these benefit...</td>\n",
       "      <td>gifhome</td>\n",
       "      <td>NaN</td>\n",
       "      <td>NaN</td>\n",
       "    </tr>\n",
       "  </tbody>\n",
       "</table>\n",
       "<p>5002 rows × 6 columns</p>\n",
       "</div>"
      ],
      "text/plain": [
       "                         Datetime             Tweet Id  \\\n",
       "0     2022-05-31 23:38:42 + 00:00  1531782249464537088   \n",
       "1     2022-05-31 23:10:59 + 00:00  1531775274085490690   \n",
       "2     2022-05-31 22:39:12 + 00:00  1531767276453568512   \n",
       "3     2022-05-31 21:43:20 + 00:00  1531753217633071104   \n",
       "4     2022-05-31 21:38:33 + 00:00  1531752016183103488   \n",
       "...                           ...                  ...   \n",
       "4997  2022-04-08 23:29:49 + 00:00  1512573457820696578   \n",
       "4998  2022-04-08 23:23:57 + 00:00  1512571984127066116   \n",
       "4999  2022-04-08 23:10:26 + 00:00  1512568579547447301   \n",
       "5000  2022-04-08 22:58:28 + 00:00  1512565567613374467   \n",
       "5001  2022-04-08 22:48:49 + 00:00  1512563139002482691   \n",
       "\n",
       "                                                   text        usernames  \\\n",
       "0     Shanghai announced a complete restart of the c...          Wufanus   \n",
       "1     On May 29, Shanghai held a press conference on...    Jessie2021626   \n",
       "2     @peterliu2121 @8DTzwKSsKMmEwNV @firelemond @Re...  gwrcc6guukw7iyc   \n",
       "3     Is the Shanghai epidemic really over? \\r\\n\\r\\n...            ez2p8   \n",
       "4     The Shanghai government “The Shanghai governme...  ecpp7jhczja8ct3   \n",
       "...                                                 ...              ...   \n",
       "4997  @Jam79922967 The main thing in Shanghai is tha...     lingxia 273d   \n",
       "4998  Taobao bought things for my girlfriend and bou...           MKD007   \n",
       "4999  The closure of Shanghai has at least one revel...         Tansunit   \n",
       "5000  @198920042014 The epidemic has closed down, th...  k3fldpg4qf0obtg   \n",
       "5001  @sujing110 There have never been these benefit...          gifhome   \n",
       "\n",
       "     Stomach Place  \n",
       "0        NaN   NaN  \n",
       "1        NaN   NaN  \n",
       "2        NaN   NaN  \n",
       "3        NaN   NaN  \n",
       "4        NaN   NaN  \n",
       "...      ...   ...  \n",
       "4997     NaN   NaN  \n",
       "4998     NaN   NaN  \n",
       "4999     NaN   NaN  \n",
       "5000     NaN   NaN  \n",
       "5001     NaN   NaN  \n",
       "\n",
       "[5002 rows x 6 columns]"
      ]
     },
     "execution_count": 58,
     "metadata": {},
     "output_type": "execute_result"
    }
   ],
   "source": [
    "database"
   ]
  },
  {
   "cell_type": "code",
   "execution_count": 59,
   "id": "prescription-capability",
   "metadata": {},
   "outputs": [],
   "source": [
    "#preprocess"
   ]
  },
  {
   "cell_type": "code",
   "execution_count": 60,
   "id": "southeast-tokyo",
   "metadata": {
    "scrolled": true
   },
   "outputs": [],
   "source": [
    "preprocess_review = pd.DataFrame(database['text'])"
   ]
  },
  {
   "cell_type": "code",
   "execution_count": 61,
   "id": "descending-emission",
   "metadata": {
    "scrolled": true
   },
   "outputs": [
    {
     "data": {
      "text/html": [
       "<div>\n",
       "<style scoped>\n",
       "    .dataframe tbody tr th:only-of-type {\n",
       "        vertical-align: middle;\n",
       "    }\n",
       "\n",
       "    .dataframe tbody tr th {\n",
       "        vertical-align: top;\n",
       "    }\n",
       "\n",
       "    .dataframe thead th {\n",
       "        text-align: right;\n",
       "    }\n",
       "</style>\n",
       "<table border=\"1\" class=\"dataframe\">\n",
       "  <thead>\n",
       "    <tr style=\"text-align: right;\">\n",
       "      <th></th>\n",
       "      <th>text</th>\n",
       "    </tr>\n",
       "  </thead>\n",
       "  <tbody>\n",
       "    <tr>\n",
       "      <th>0</th>\n",
       "      <td>Shanghai announced a complete restart of the c...</td>\n",
       "    </tr>\n",
       "    <tr>\n",
       "      <th>1</th>\n",
       "      <td>On May 29, Shanghai held a press conference on...</td>\n",
       "    </tr>\n",
       "    <tr>\n",
       "      <th>2</th>\n",
       "      <td>@peterliu2121 @8DTzwKSsKMmEwNV @firelemond @Re...</td>\n",
       "    </tr>\n",
       "    <tr>\n",
       "      <th>3</th>\n",
       "      <td>Is the Shanghai epidemic really over? \\r\\n\\r\\n...</td>\n",
       "    </tr>\n",
       "    <tr>\n",
       "      <th>4</th>\n",
       "      <td>The Shanghai government “The Shanghai governme...</td>\n",
       "    </tr>\n",
       "    <tr>\n",
       "      <th>...</th>\n",
       "      <td>...</td>\n",
       "    </tr>\n",
       "    <tr>\n",
       "      <th>4997</th>\n",
       "      <td>@Jam79922967 The main thing in Shanghai is tha...</td>\n",
       "    </tr>\n",
       "    <tr>\n",
       "      <th>4998</th>\n",
       "      <td>Taobao bought things for my girlfriend and bou...</td>\n",
       "    </tr>\n",
       "    <tr>\n",
       "      <th>4999</th>\n",
       "      <td>The closure of Shanghai has at least one revel...</td>\n",
       "    </tr>\n",
       "    <tr>\n",
       "      <th>5000</th>\n",
       "      <td>@198920042014 The epidemic has closed down, th...</td>\n",
       "    </tr>\n",
       "    <tr>\n",
       "      <th>5001</th>\n",
       "      <td>@sujing110 There have never been these benefit...</td>\n",
       "    </tr>\n",
       "  </tbody>\n",
       "</table>\n",
       "<p>5002 rows × 1 columns</p>\n",
       "</div>"
      ],
      "text/plain": [
       "                                                   text\n",
       "0     Shanghai announced a complete restart of the c...\n",
       "1     On May 29, Shanghai held a press conference on...\n",
       "2     @peterliu2121 @8DTzwKSsKMmEwNV @firelemond @Re...\n",
       "3     Is the Shanghai epidemic really over? \\r\\n\\r\\n...\n",
       "4     The Shanghai government “The Shanghai governme...\n",
       "...                                                 ...\n",
       "4997  @Jam79922967 The main thing in Shanghai is tha...\n",
       "4998  Taobao bought things for my girlfriend and bou...\n",
       "4999  The closure of Shanghai has at least one revel...\n",
       "5000  @198920042014 The epidemic has closed down, th...\n",
       "5001  @sujing110 There have never been these benefit...\n",
       "\n",
       "[5002 rows x 1 columns]"
      ]
     },
     "execution_count": 61,
     "metadata": {},
     "output_type": "execute_result"
    }
   ],
   "source": [
    "preprocess_review"
   ]
  },
  {
   "cell_type": "code",
   "execution_count": 62,
   "id": "white-apparatus",
   "metadata": {
    "scrolled": true
   },
   "outputs": [],
   "source": [
    "# lower\n",
    "overall_reviews_lower = []\n",
    "\n",
    "for i in preprocess_review['text']:\n",
    "    overall_reviews_lower.append(i.lower())\n",
    "\n",
    "preprocess_review['text'] = overall_reviews_lower"
   ]
  },
  {
   "cell_type": "code",
   "execution_count": 63,
   "id": "enormous-marriage",
   "metadata": {},
   "outputs": [
    {
     "data": {
      "text/html": [
       "<div>\n",
       "<style scoped>\n",
       "    .dataframe tbody tr th:only-of-type {\n",
       "        vertical-align: middle;\n",
       "    }\n",
       "\n",
       "    .dataframe tbody tr th {\n",
       "        vertical-align: top;\n",
       "    }\n",
       "\n",
       "    .dataframe thead th {\n",
       "        text-align: right;\n",
       "    }\n",
       "</style>\n",
       "<table border=\"1\" class=\"dataframe\">\n",
       "  <thead>\n",
       "    <tr style=\"text-align: right;\">\n",
       "      <th></th>\n",
       "      <th>text</th>\n",
       "    </tr>\n",
       "  </thead>\n",
       "  <tbody>\n",
       "    <tr>\n",
       "      <th>0</th>\n",
       "      <td>shanghai announced a complete restart of the c...</td>\n",
       "    </tr>\n",
       "    <tr>\n",
       "      <th>1</th>\n",
       "      <td>on may 29, shanghai held a press conference on...</td>\n",
       "    </tr>\n",
       "    <tr>\n",
       "      <th>2</th>\n",
       "      <td>@peterliu2121 @8dtzwksskmmewnv @firelemond @re...</td>\n",
       "    </tr>\n",
       "    <tr>\n",
       "      <th>3</th>\n",
       "      <td>is the shanghai epidemic really over? \\r\\n\\r\\n...</td>\n",
       "    </tr>\n",
       "    <tr>\n",
       "      <th>4</th>\n",
       "      <td>the shanghai government “the shanghai governme...</td>\n",
       "    </tr>\n",
       "    <tr>\n",
       "      <th>...</th>\n",
       "      <td>...</td>\n",
       "    </tr>\n",
       "    <tr>\n",
       "      <th>4997</th>\n",
       "      <td>@jam79922967 the main thing in shanghai is tha...</td>\n",
       "    </tr>\n",
       "    <tr>\n",
       "      <th>4998</th>\n",
       "      <td>taobao bought things for my girlfriend and bou...</td>\n",
       "    </tr>\n",
       "    <tr>\n",
       "      <th>4999</th>\n",
       "      <td>the closure of shanghai has at least one revel...</td>\n",
       "    </tr>\n",
       "    <tr>\n",
       "      <th>5000</th>\n",
       "      <td>@198920042014 the epidemic has closed down, th...</td>\n",
       "    </tr>\n",
       "    <tr>\n",
       "      <th>5001</th>\n",
       "      <td>@sujing110 there have never been these benefit...</td>\n",
       "    </tr>\n",
       "  </tbody>\n",
       "</table>\n",
       "<p>5002 rows × 1 columns</p>\n",
       "</div>"
      ],
      "text/plain": [
       "                                                   text\n",
       "0     shanghai announced a complete restart of the c...\n",
       "1     on may 29, shanghai held a press conference on...\n",
       "2     @peterliu2121 @8dtzwksskmmewnv @firelemond @re...\n",
       "3     is the shanghai epidemic really over? \\r\\n\\r\\n...\n",
       "4     the shanghai government “the shanghai governme...\n",
       "...                                                 ...\n",
       "4997  @jam79922967 the main thing in shanghai is tha...\n",
       "4998  taobao bought things for my girlfriend and bou...\n",
       "4999  the closure of shanghai has at least one revel...\n",
       "5000  @198920042014 the epidemic has closed down, th...\n",
       "5001  @sujing110 there have never been these benefit...\n",
       "\n",
       "[5002 rows x 1 columns]"
      ]
     },
     "execution_count": 63,
     "metadata": {},
     "output_type": "execute_result"
    }
   ],
   "source": [
    "preprocess_review"
   ]
  },
  {
   "cell_type": "code",
   "execution_count": 64,
   "id": "impaired-dollar",
   "metadata": {},
   "outputs": [],
   "source": [
    "# remove punctuations\n",
    "\n",
    "punctuations = '''()[]{};:'\"\\,<>./?@#$%^&*_~-'''\n",
    "\n",
    "def remove_punct(text):\n",
    "    no_punct = \"\"\n",
    "    for char in text:\n",
    "        if char not in punctuations:\n",
    "            no_punct += char\n",
    "        else:\n",
    "            no_punct += \" \"\n",
    "    \n",
    "    return re.sub(' +', ' ',no_punct)\n",
    "\n",
    "overall_reviews_remove_punct = []\n",
    "\n",
    "\n",
    "for i in overall_reviews_lower:\n",
    "    overall_reviews_remove_punct.append(remove_punct(i))\n",
    "    \n",
    "preprocess_review['text_remove_punct'] = overall_reviews_remove_punct"
   ]
  },
  {
   "cell_type": "code",
   "execution_count": 65,
   "id": "vocational-attachment",
   "metadata": {},
   "outputs": [
    {
     "data": {
      "text/html": [
       "<div>\n",
       "<style scoped>\n",
       "    .dataframe tbody tr th:only-of-type {\n",
       "        vertical-align: middle;\n",
       "    }\n",
       "\n",
       "    .dataframe tbody tr th {\n",
       "        vertical-align: top;\n",
       "    }\n",
       "\n",
       "    .dataframe thead th {\n",
       "        text-align: right;\n",
       "    }\n",
       "</style>\n",
       "<table border=\"1\" class=\"dataframe\">\n",
       "  <thead>\n",
       "    <tr style=\"text-align: right;\">\n",
       "      <th></th>\n",
       "      <th>text</th>\n",
       "      <th>text_remove_punct</th>\n",
       "    </tr>\n",
       "  </thead>\n",
       "  <tbody>\n",
       "    <tr>\n",
       "      <th>0</th>\n",
       "      <td>shanghai announced a complete restart of the c...</td>\n",
       "      <td>shanghai announced a complete restart of the c...</td>\n",
       "    </tr>\n",
       "    <tr>\n",
       "      <th>1</th>\n",
       "      <td>on may 29, shanghai held a press conference on...</td>\n",
       "      <td>on may 29 shanghai held a press conference on ...</td>\n",
       "    </tr>\n",
       "    <tr>\n",
       "      <th>2</th>\n",
       "      <td>@peterliu2121 @8dtzwksskmmewnv @firelemond @re...</td>\n",
       "      <td>peterliu2121 8dtzwksskmmewnv firelemond realc...</td>\n",
       "    </tr>\n",
       "    <tr>\n",
       "      <th>3</th>\n",
       "      <td>is the shanghai epidemic really over? \\r\\n\\r\\n...</td>\n",
       "      <td>is the shanghai epidemic really over \\r\\n\\r\\np...</td>\n",
       "    </tr>\n",
       "    <tr>\n",
       "      <th>4</th>\n",
       "      <td>the shanghai government “the shanghai governme...</td>\n",
       "      <td>the shanghai government “the shanghai governme...</td>\n",
       "    </tr>\n",
       "    <tr>\n",
       "      <th>...</th>\n",
       "      <td>...</td>\n",
       "      <td>...</td>\n",
       "    </tr>\n",
       "    <tr>\n",
       "      <th>4997</th>\n",
       "      <td>@jam79922967 the main thing in shanghai is tha...</td>\n",
       "      <td>jam79922967 the main thing in shanghai is tha...</td>\n",
       "    </tr>\n",
       "    <tr>\n",
       "      <th>4998</th>\n",
       "      <td>taobao bought things for my girlfriend and bou...</td>\n",
       "      <td>taobao bought things for my girlfriend and bou...</td>\n",
       "    </tr>\n",
       "    <tr>\n",
       "      <th>4999</th>\n",
       "      <td>the closure of shanghai has at least one revel...</td>\n",
       "      <td>the closure of shanghai has at least one revel...</td>\n",
       "    </tr>\n",
       "    <tr>\n",
       "      <th>5000</th>\n",
       "      <td>@198920042014 the epidemic has closed down, th...</td>\n",
       "      <td>198920042014 the epidemic has closed down the...</td>\n",
       "    </tr>\n",
       "    <tr>\n",
       "      <th>5001</th>\n",
       "      <td>@sujing110 there have never been these benefit...</td>\n",
       "      <td>sujing110 there have never been these benefit...</td>\n",
       "    </tr>\n",
       "  </tbody>\n",
       "</table>\n",
       "<p>5002 rows × 2 columns</p>\n",
       "</div>"
      ],
      "text/plain": [
       "                                                   text  \\\n",
       "0     shanghai announced a complete restart of the c...   \n",
       "1     on may 29, shanghai held a press conference on...   \n",
       "2     @peterliu2121 @8dtzwksskmmewnv @firelemond @re...   \n",
       "3     is the shanghai epidemic really over? \\r\\n\\r\\n...   \n",
       "4     the shanghai government “the shanghai governme...   \n",
       "...                                                 ...   \n",
       "4997  @jam79922967 the main thing in shanghai is tha...   \n",
       "4998  taobao bought things for my girlfriend and bou...   \n",
       "4999  the closure of shanghai has at least one revel...   \n",
       "5000  @198920042014 the epidemic has closed down, th...   \n",
       "5001  @sujing110 there have never been these benefit...   \n",
       "\n",
       "                                      text_remove_punct  \n",
       "0     shanghai announced a complete restart of the c...  \n",
       "1     on may 29 shanghai held a press conference on ...  \n",
       "2      peterliu2121 8dtzwksskmmewnv firelemond realc...  \n",
       "3     is the shanghai epidemic really over \\r\\n\\r\\np...  \n",
       "4     the shanghai government “the shanghai governme...  \n",
       "...                                                 ...  \n",
       "4997   jam79922967 the main thing in shanghai is tha...  \n",
       "4998  taobao bought things for my girlfriend and bou...  \n",
       "4999  the closure of shanghai has at least one revel...  \n",
       "5000   198920042014 the epidemic has closed down the...  \n",
       "5001   sujing110 there have never been these benefit...  \n",
       "\n",
       "[5002 rows x 2 columns]"
      ]
     },
     "execution_count": 65,
     "metadata": {},
     "output_type": "execute_result"
    }
   ],
   "source": [
    "preprocess_review"
   ]
  },
  {
   "cell_type": "code",
   "execution_count": 66,
   "id": "handmade-landscape",
   "metadata": {},
   "outputs": [],
   "source": [
    "# remove stopwords\n",
    "import gensim\n",
    "\n",
    "all_stopwords = gensim.parsing.preprocessing.STOPWORDS\n",
    "\n",
    "additional_stop_words = ['']\n",
    "\n",
    "all_stopwords = all_stopwords.union(set(additional_stop_words))\n",
    "\n",
    "def remove_mystopwords(sentence):\n",
    "    tokens = sentence.split(\" \")\n",
    "    tokens_filtered= [word for word in tokens if not word in all_stopwords]\n",
    "    clean = (\" \").join(tokens_filtered)\n",
    "    return clean\n",
    "\n",
    "overall_reviews_clean = []\n",
    "\n",
    "for i in overall_reviews_remove_punct:\n",
    "    overall_reviews_clean.append(remove_mystopwords(i))\n",
    "\n",
    "preprocess_review['text_clean'] = overall_reviews_clean"
   ]
  },
  {
   "cell_type": "code",
   "execution_count": 67,
   "id": "handy-identity",
   "metadata": {},
   "outputs": [
    {
     "data": {
      "text/html": [
       "<div>\n",
       "<style scoped>\n",
       "    .dataframe tbody tr th:only-of-type {\n",
       "        vertical-align: middle;\n",
       "    }\n",
       "\n",
       "    .dataframe tbody tr th {\n",
       "        vertical-align: top;\n",
       "    }\n",
       "\n",
       "    .dataframe thead th {\n",
       "        text-align: right;\n",
       "    }\n",
       "</style>\n",
       "<table border=\"1\" class=\"dataframe\">\n",
       "  <thead>\n",
       "    <tr style=\"text-align: right;\">\n",
       "      <th></th>\n",
       "      <th>text</th>\n",
       "      <th>text_remove_punct</th>\n",
       "      <th>text_clean</th>\n",
       "    </tr>\n",
       "  </thead>\n",
       "  <tbody>\n",
       "    <tr>\n",
       "      <th>0</th>\n",
       "      <td>shanghai announced a complete restart of the c...</td>\n",
       "      <td>shanghai announced a complete restart of the c...</td>\n",
       "      <td>shanghai announced complete restart city febru...</td>\n",
       "    </tr>\n",
       "    <tr>\n",
       "      <th>1</th>\n",
       "      <td>on may 29, shanghai held a press conference on...</td>\n",
       "      <td>on may 29 shanghai held a press conference on ...</td>\n",
       "      <td>29 shanghai held press conference prevention c...</td>\n",
       "    </tr>\n",
       "    <tr>\n",
       "      <th>2</th>\n",
       "      <td>@peterliu2121 @8dtzwksskmmewnv @firelemond @re...</td>\n",
       "      <td>peterliu2121 8dtzwksskmmewnv firelemond realc...</td>\n",
       "      <td>peterliu2121 8dtzwksskmmewnv firelemond realco...</td>\n",
       "    </tr>\n",
       "    <tr>\n",
       "      <th>3</th>\n",
       "      <td>is the shanghai epidemic really over? \\r\\n\\r\\n...</td>\n",
       "      <td>is the shanghai epidemic really over \\r\\n\\r\\np...</td>\n",
       "      <td>shanghai epidemic \\r\\n\\r\\npangu news closed cc...</td>\n",
       "    </tr>\n",
       "    <tr>\n",
       "      <th>4</th>\n",
       "      <td>the shanghai government “the shanghai governme...</td>\n",
       "      <td>the shanghai government “the shanghai governme...</td>\n",
       "      <td>shanghai government “the shanghai government a...</td>\n",
       "    </tr>\n",
       "    <tr>\n",
       "      <th>...</th>\n",
       "      <td>...</td>\n",
       "      <td>...</td>\n",
       "      <td>...</td>\n",
       "    </tr>\n",
       "    <tr>\n",
       "      <th>4997</th>\n",
       "      <td>@jam79922967 the main thing in shanghai is tha...</td>\n",
       "      <td>jam79922967 the main thing in shanghai is tha...</td>\n",
       "      <td>jam79922967 main thing shanghai digital publis...</td>\n",
       "    </tr>\n",
       "    <tr>\n",
       "      <th>4998</th>\n",
       "      <td>taobao bought things for my girlfriend and bou...</td>\n",
       "      <td>taobao bought things for my girlfriend and bou...</td>\n",
       "      <td>taobao bought things girlfriend bought shenzhe...</td>\n",
       "    </tr>\n",
       "    <tr>\n",
       "      <th>4999</th>\n",
       "      <td>the closure of shanghai has at least one revel...</td>\n",
       "      <td>the closure of shanghai has at least one revel...</td>\n",
       "      <td>closure shanghai revelation people living citi...</td>\n",
       "    </tr>\n",
       "    <tr>\n",
       "      <th>5000</th>\n",
       "      <td>@198920042014 the epidemic has closed down, th...</td>\n",
       "      <td>198920042014 the epidemic has closed down the...</td>\n",
       "      <td>198920042014 epidemic closed party suspended t...</td>\n",
       "    </tr>\n",
       "    <tr>\n",
       "      <th>5001</th>\n",
       "      <td>@sujing110 there have never been these benefit...</td>\n",
       "      <td>sujing110 there have never been these benefit...</td>\n",
       "      <td>sujing110 benefits domestically epidemic broug...</td>\n",
       "    </tr>\n",
       "  </tbody>\n",
       "</table>\n",
       "<p>5002 rows × 3 columns</p>\n",
       "</div>"
      ],
      "text/plain": [
       "                                                   text  \\\n",
       "0     shanghai announced a complete restart of the c...   \n",
       "1     on may 29, shanghai held a press conference on...   \n",
       "2     @peterliu2121 @8dtzwksskmmewnv @firelemond @re...   \n",
       "3     is the shanghai epidemic really over? \\r\\n\\r\\n...   \n",
       "4     the shanghai government “the shanghai governme...   \n",
       "...                                                 ...   \n",
       "4997  @jam79922967 the main thing in shanghai is tha...   \n",
       "4998  taobao bought things for my girlfriend and bou...   \n",
       "4999  the closure of shanghai has at least one revel...   \n",
       "5000  @198920042014 the epidemic has closed down, th...   \n",
       "5001  @sujing110 there have never been these benefit...   \n",
       "\n",
       "                                      text_remove_punct  \\\n",
       "0     shanghai announced a complete restart of the c...   \n",
       "1     on may 29 shanghai held a press conference on ...   \n",
       "2      peterliu2121 8dtzwksskmmewnv firelemond realc...   \n",
       "3     is the shanghai epidemic really over \\r\\n\\r\\np...   \n",
       "4     the shanghai government “the shanghai governme...   \n",
       "...                                                 ...   \n",
       "4997   jam79922967 the main thing in shanghai is tha...   \n",
       "4998  taobao bought things for my girlfriend and bou...   \n",
       "4999  the closure of shanghai has at least one revel...   \n",
       "5000   198920042014 the epidemic has closed down the...   \n",
       "5001   sujing110 there have never been these benefit...   \n",
       "\n",
       "                                             text_clean  \n",
       "0     shanghai announced complete restart city febru...  \n",
       "1     29 shanghai held press conference prevention c...  \n",
       "2     peterliu2121 8dtzwksskmmewnv firelemond realco...  \n",
       "3     shanghai epidemic \\r\\n\\r\\npangu news closed cc...  \n",
       "4     shanghai government “the shanghai government a...  \n",
       "...                                                 ...  \n",
       "4997  jam79922967 main thing shanghai digital publis...  \n",
       "4998  taobao bought things girlfriend bought shenzhe...  \n",
       "4999  closure shanghai revelation people living citi...  \n",
       "5000  198920042014 epidemic closed party suspended t...  \n",
       "5001  sujing110 benefits domestically epidemic broug...  \n",
       "\n",
       "[5002 rows x 3 columns]"
      ]
     },
     "execution_count": 67,
     "metadata": {},
     "output_type": "execute_result"
    }
   ],
   "source": [
    "preprocess_review"
   ]
  },
  {
   "cell_type": "code",
   "execution_count": 68,
   "id": "gothic-richmond",
   "metadata": {},
   "outputs": [],
   "source": [
    "#lemmatize \n",
    "\n",
    "def lemmatizing(string):\n",
    "    lemmatizer = WordNetLemmatizer()\n",
    "    word_list = nltk.word_tokenize(string)\n",
    "    lemmatized_output = ' '.join([lemmatizer.lemmatize(w) for w in word_list])\n",
    "    return lemmatized_output\n",
    "\n",
    "overall_reviews_lemme = []\n",
    "\n",
    "for i in overall_reviews_clean:\n",
    "    overall_reviews_lemme.append(lemmatizing(i))\n",
    "\n",
    "preprocess_review['text_lemme'] = overall_reviews_lemme"
   ]
  },
  {
   "cell_type": "code",
   "execution_count": 69,
   "id": "compound-campbell",
   "metadata": {},
   "outputs": [
    {
     "data": {
      "text/html": [
       "<div>\n",
       "<style scoped>\n",
       "    .dataframe tbody tr th:only-of-type {\n",
       "        vertical-align: middle;\n",
       "    }\n",
       "\n",
       "    .dataframe tbody tr th {\n",
       "        vertical-align: top;\n",
       "    }\n",
       "\n",
       "    .dataframe thead th {\n",
       "        text-align: right;\n",
       "    }\n",
       "</style>\n",
       "<table border=\"1\" class=\"dataframe\">\n",
       "  <thead>\n",
       "    <tr style=\"text-align: right;\">\n",
       "      <th></th>\n",
       "      <th>text</th>\n",
       "      <th>text_remove_punct</th>\n",
       "      <th>text_clean</th>\n",
       "      <th>text_lemme</th>\n",
       "    </tr>\n",
       "  </thead>\n",
       "  <tbody>\n",
       "    <tr>\n",
       "      <th>0</th>\n",
       "      <td>shanghai announced a complete restart of the c...</td>\n",
       "      <td>shanghai announced a complete restart of the c...</td>\n",
       "      <td>shanghai announced complete restart city febru...</td>\n",
       "      <td>shanghai announced complete restart city febru...</td>\n",
       "    </tr>\n",
       "    <tr>\n",
       "      <th>1</th>\n",
       "      <td>on may 29, shanghai held a press conference on...</td>\n",
       "      <td>on may 29 shanghai held a press conference on ...</td>\n",
       "      <td>29 shanghai held press conference prevention c...</td>\n",
       "      <td>29 shanghai held press conference prevention c...</td>\n",
       "    </tr>\n",
       "    <tr>\n",
       "      <th>2</th>\n",
       "      <td>@peterliu2121 @8dtzwksskmmewnv @firelemond @re...</td>\n",
       "      <td>peterliu2121 8dtzwksskmmewnv firelemond realc...</td>\n",
       "      <td>peterliu2121 8dtzwksskmmewnv firelemond realco...</td>\n",
       "      <td>peterliu2121 8dtzwksskmmewnv firelemond realco...</td>\n",
       "    </tr>\n",
       "    <tr>\n",
       "      <th>3</th>\n",
       "      <td>is the shanghai epidemic really over? \\r\\n\\r\\n...</td>\n",
       "      <td>is the shanghai epidemic really over \\r\\n\\r\\np...</td>\n",
       "      <td>shanghai epidemic \\r\\n\\r\\npangu news closed cc...</td>\n",
       "      <td>shanghai epidemic pangu news closed ccp s chin...</td>\n",
       "    </tr>\n",
       "    <tr>\n",
       "      <th>4</th>\n",
       "      <td>the shanghai government “the shanghai governme...</td>\n",
       "      <td>the shanghai government “the shanghai governme...</td>\n",
       "      <td>shanghai government “the shanghai government a...</td>\n",
       "      <td>shanghai government “ the shanghai government ...</td>\n",
       "    </tr>\n",
       "    <tr>\n",
       "      <th>...</th>\n",
       "      <td>...</td>\n",
       "      <td>...</td>\n",
       "      <td>...</td>\n",
       "      <td>...</td>\n",
       "    </tr>\n",
       "    <tr>\n",
       "      <th>4997</th>\n",
       "      <td>@jam79922967 the main thing in shanghai is tha...</td>\n",
       "      <td>jam79922967 the main thing in shanghai is tha...</td>\n",
       "      <td>jam79922967 main thing shanghai digital publis...</td>\n",
       "      <td>jam79922967 main thing shanghai digital publis...</td>\n",
       "    </tr>\n",
       "    <tr>\n",
       "      <th>4998</th>\n",
       "      <td>taobao bought things for my girlfriend and bou...</td>\n",
       "      <td>taobao bought things for my girlfriend and bou...</td>\n",
       "      <td>taobao bought things girlfriend bought shenzhe...</td>\n",
       "      <td>taobao bought thing girlfriend bought shenzhen...</td>\n",
       "    </tr>\n",
       "    <tr>\n",
       "      <th>4999</th>\n",
       "      <td>the closure of shanghai has at least one revel...</td>\n",
       "      <td>the closure of shanghai has at least one revel...</td>\n",
       "      <td>closure shanghai revelation people living citi...</td>\n",
       "      <td>closure shanghai revelation people living city...</td>\n",
       "    </tr>\n",
       "    <tr>\n",
       "      <th>5000</th>\n",
       "      <td>@198920042014 the epidemic has closed down, th...</td>\n",
       "      <td>198920042014 the epidemic has closed down the...</td>\n",
       "      <td>198920042014 epidemic closed party suspended t...</td>\n",
       "      <td>198920042014 epidemic closed party suspended t...</td>\n",
       "    </tr>\n",
       "    <tr>\n",
       "      <th>5001</th>\n",
       "      <td>@sujing110 there have never been these benefit...</td>\n",
       "      <td>sujing110 there have never been these benefit...</td>\n",
       "      <td>sujing110 benefits domestically epidemic broug...</td>\n",
       "      <td>sujing110 benefit domestically epidemic brough...</td>\n",
       "    </tr>\n",
       "  </tbody>\n",
       "</table>\n",
       "<p>5002 rows × 4 columns</p>\n",
       "</div>"
      ],
      "text/plain": [
       "                                                   text  \\\n",
       "0     shanghai announced a complete restart of the c...   \n",
       "1     on may 29, shanghai held a press conference on...   \n",
       "2     @peterliu2121 @8dtzwksskmmewnv @firelemond @re...   \n",
       "3     is the shanghai epidemic really over? \\r\\n\\r\\n...   \n",
       "4     the shanghai government “the shanghai governme...   \n",
       "...                                                 ...   \n",
       "4997  @jam79922967 the main thing in shanghai is tha...   \n",
       "4998  taobao bought things for my girlfriend and bou...   \n",
       "4999  the closure of shanghai has at least one revel...   \n",
       "5000  @198920042014 the epidemic has closed down, th...   \n",
       "5001  @sujing110 there have never been these benefit...   \n",
       "\n",
       "                                      text_remove_punct  \\\n",
       "0     shanghai announced a complete restart of the c...   \n",
       "1     on may 29 shanghai held a press conference on ...   \n",
       "2      peterliu2121 8dtzwksskmmewnv firelemond realc...   \n",
       "3     is the shanghai epidemic really over \\r\\n\\r\\np...   \n",
       "4     the shanghai government “the shanghai governme...   \n",
       "...                                                 ...   \n",
       "4997   jam79922967 the main thing in shanghai is tha...   \n",
       "4998  taobao bought things for my girlfriend and bou...   \n",
       "4999  the closure of shanghai has at least one revel...   \n",
       "5000   198920042014 the epidemic has closed down the...   \n",
       "5001   sujing110 there have never been these benefit...   \n",
       "\n",
       "                                             text_clean  \\\n",
       "0     shanghai announced complete restart city febru...   \n",
       "1     29 shanghai held press conference prevention c...   \n",
       "2     peterliu2121 8dtzwksskmmewnv firelemond realco...   \n",
       "3     shanghai epidemic \\r\\n\\r\\npangu news closed cc...   \n",
       "4     shanghai government “the shanghai government a...   \n",
       "...                                                 ...   \n",
       "4997  jam79922967 main thing shanghai digital publis...   \n",
       "4998  taobao bought things girlfriend bought shenzhe...   \n",
       "4999  closure shanghai revelation people living citi...   \n",
       "5000  198920042014 epidemic closed party suspended t...   \n",
       "5001  sujing110 benefits domestically epidemic broug...   \n",
       "\n",
       "                                             text_lemme  \n",
       "0     shanghai announced complete restart city febru...  \n",
       "1     29 shanghai held press conference prevention c...  \n",
       "2     peterliu2121 8dtzwksskmmewnv firelemond realco...  \n",
       "3     shanghai epidemic pangu news closed ccp s chin...  \n",
       "4     shanghai government “ the shanghai government ...  \n",
       "...                                                 ...  \n",
       "4997  jam79922967 main thing shanghai digital publis...  \n",
       "4998  taobao bought thing girlfriend bought shenzhen...  \n",
       "4999  closure shanghai revelation people living city...  \n",
       "5000  198920042014 epidemic closed party suspended t...  \n",
       "5001  sujing110 benefit domestically epidemic brough...  \n",
       "\n",
       "[5002 rows x 4 columns]"
      ]
     },
     "execution_count": 69,
     "metadata": {},
     "output_type": "execute_result"
    }
   ],
   "source": [
    "preprocess_review"
   ]
  },
  {
   "cell_type": "code",
   "execution_count": 70,
   "id": "passing-california",
   "metadata": {},
   "outputs": [],
   "source": [
    "preprocess_review.to_csv('new_Cleaned_preprocessing_en.Twitter_May_June_2022_5000_chinese.csv', index=False)"
   ]
  },
  {
   "cell_type": "code",
   "execution_count": 84,
   "id": "intermediate-miami",
   "metadata": {},
   "outputs": [],
   "source": [
    "#Sentiment Analysis\n",
    "# References: 1)https://www.youtube.com/watch?v=b9-0GpCqAQw&t=5s 2)https://huggingface.co/arpanghoshal/EmoRoBERTa"
   ]
  },
  {
   "cell_type": "code",
   "execution_count": 98,
   "id": "quality-wagon",
   "metadata": {
    "scrolled": true
   },
   "outputs": [],
   "source": [
    "import pandas as pd\n",
    "import numpy as np\n",
    "import matplotlib.pyplot as plt\n",
    "\n",
    "database1 = pd.read_csv('en.Twitter_May_June_2022_5000_chinese.csv')"
   ]
  },
  {
   "cell_type": "code",
   "execution_count": 99,
   "id": "greenhouse-poker",
   "metadata": {
    "scrolled": false
   },
   "outputs": [],
   "source": [
    "database2 = database1\n",
    "database2 = database2.applymap(str)"
   ]
  },
  {
   "cell_type": "code",
   "execution_count": 100,
   "id": "generous-franchise",
   "metadata": {},
   "outputs": [
    {
     "data": {
      "text/plain": [
       "(5002, 7)"
      ]
     },
     "execution_count": 100,
     "metadata": {},
     "output_type": "execute_result"
    }
   ],
   "source": [
    "#Size of dataset\n",
    "database2.shape"
   ]
  },
  {
   "cell_type": "code",
   "execution_count": 101,
   "id": "returning-webcam",
   "metadata": {},
   "outputs": [],
   "source": [
    "# New sentiment (Emoroberta - dataset labelled 58000 reddit comments with 28 emotions)\n",
    "# Reference - https://github.com/amrrs/emotion-detection-from-text-python/blob/main/Text_Emotion_Detection_in_Python.ipynb"
   ]
  },
  {
   "cell_type": "code",
   "execution_count": 102,
   "id": "super-rwanda",
   "metadata": {
    "scrolled": true
   },
   "outputs": [
    {
     "name": "stdout",
     "output_type": "stream",
     "text": [
      "Looking in indexes: https://pypi.org/simple, https://download.pytorch.org/whl/cu116"
     ]
    },
    {
     "name": "stderr",
     "output_type": "stream",
     "text": [
      "\n",
      "[notice] A new release of pip available: 22.2.2 -> 23.0.1\n",
      "[notice] To update, run: python.exe -m pip install --upgrade pip\n"
     ]
    },
    {
     "name": "stdout",
     "output_type": "stream",
     "text": [
      "\n",
      "Requirement already satisfied: torch in c:\\users\\chung ky\\anaconda3\\lib\\site-packages (1.12.1+cu116)\n",
      "Requirement already satisfied: torchvision in c:\\users\\chung ky\\anaconda3\\lib\\site-packages (0.13.1+cu116)\n",
      "Requirement already satisfied: torchaudio in c:\\users\\chung ky\\anaconda3\\lib\\site-packages (0.12.1+cu116)\n",
      "Requirement already satisfied: typing-extensions in c:\\users\\chung ky\\anaconda3\\lib\\site-packages (from torch) (4.3.0)\n",
      "Requirement already satisfied: pillow!=8.3.*,>=5.3.0 in c:\\users\\chung ky\\anaconda3\\lib\\site-packages (from torchvision) (8.1.2)\n",
      "Requirement already satisfied: requests in c:\\users\\chung ky\\anaconda3\\lib\\site-packages (from torchvision) (2.28.1)\n",
      "Requirement already satisfied: numpy in c:\\users\\chung ky\\anaconda3\\lib\\site-packages (from torchvision) (1.22.3)\n",
      "Requirement already satisfied: certifi>=2017.4.17 in c:\\users\\chung ky\\anaconda3\\lib\\site-packages (from requests->torchvision) (2022.6.15)\n",
      "Requirement already satisfied: charset-normalizer<3,>=2 in c:\\users\\chung ky\\anaconda3\\lib\\site-packages (from requests->torchvision) (2.1.1)\n",
      "Requirement already satisfied: idna<4,>=2.5 in c:\\users\\chung ky\\anaconda3\\lib\\site-packages (from requests->torchvision) (2.10)\n",
      "Requirement already satisfied: urllib3<1.27,>=1.21.1 in c:\\users\\chung ky\\anaconda3\\lib\\site-packages (from requests->torchvision) (1.26.3)\n"
     ]
    }
   ],
   "source": [
    "#Install pytorch\n",
    "!pip install torch torchvision torchaudio --extra-index-url https://download.pytorch.org/whl/cu116"
   ]
  },
  {
   "cell_type": "code",
   "execution_count": 103,
   "id": "everyday-grenada",
   "metadata": {},
   "outputs": [
    {
     "name": "stderr",
     "output_type": "stream",
     "text": [
      "\n",
      "[notice] A new release of pip available: 22.2.2 -> 23.0.1\n",
      "[notice] To update, run: python.exe -m pip install --upgrade pip\n"
     ]
    }
   ],
   "source": [
    "!pip install transformers -q"
   ]
  },
  {
   "cell_type": "code",
   "execution_count": 104,
   "id": "urban-allergy",
   "metadata": {
    "scrolled": true
   },
   "outputs": [
    {
     "name": "stdout",
     "output_type": "stream",
     "text": [
      "Requirement already satisfied: tensorflow in c:\\users\\chung ky\\anaconda3\\lib\\site-packages (2.10.0)\n",
      "Requirement already satisfied: opt-einsum>=2.3.2 in c:\\users\\chung ky\\anaconda3\\lib\\site-packages (from tensorflow) (3.3.0)\n",
      "Requirement already satisfied: keras<2.11,>=2.10.0 in c:\\users\\chung ky\\anaconda3\\lib\\site-packages (from tensorflow) (2.10.0)\n",
      "Requirement already satisfied: six>=1.12.0 in c:\\users\\chung ky\\appdata\\roaming\\python\\python38\\site-packages (from tensorflow) (1.15.0)\n",
      "Requirement already satisfied: packaging in c:\\users\\chung ky\\anaconda3\\lib\\site-packages (from tensorflow) (20.9)\n",
      "Requirement already satisfied: tensorflow-io-gcs-filesystem>=0.23.1 in c:\\users\\chung ky\\anaconda3\\lib\\site-packages (from tensorflow) (0.27.0)\n",
      "Requirement already satisfied: wrapt>=1.11.0 in c:\\users\\chung ky\\appdata\\roaming\\python\\python38\\site-packages (from tensorflow) (1.12.1)\n",
      "Requirement already satisfied: libclang>=13.0.0 in c:\\users\\chung ky\\anaconda3\\lib\\site-packages (from tensorflow) (14.0.6)\n",
      "Requirement already satisfied: gast<=0.4.0,>=0.2.1 in c:\\users\\chung ky\\anaconda3\\lib\\site-packages (from tensorflow) (0.4.0)\n",
      "Requirement already satisfied: h5py>=2.9.0 in c:\\users\\chung ky\\anaconda3\\lib\\site-packages (from tensorflow) (2.10.0)\n",
      "Requirement already satisfied: tensorboard<2.11,>=2.10 in c:\\users\\chung ky\\anaconda3\\lib\\site-packages (from tensorflow) (2.10.1)\n",
      "Requirement already satisfied: termcolor>=1.1.0 in c:\\users\\chung ky\\anaconda3\\lib\\site-packages (from tensorflow) (2.0.1)\n",
      "Requirement already satisfied: absl-py>=1.0.0 in c:\\users\\chung ky\\anaconda3\\lib\\site-packages (from tensorflow) (1.2.0)\n",
      "Requirement already satisfied: keras-preprocessing>=1.1.1 in c:\\users\\chung ky\\anaconda3\\lib\\site-packages (from tensorflow) (1.1.2)\n",
      "Requirement already satisfied: numpy>=1.20 in c:\\users\\chung ky\\anaconda3\\lib\\site-packages (from tensorflow) (1.22.3)\n",
      "Requirement already satisfied: flatbuffers>=2.0 in c:\\users\\chung ky\\anaconda3\\lib\\site-packages (from tensorflow) (2.0.7)\n",
      "Requirement already satisfied: typing-extensions>=3.6.6 in c:\\users\\chung ky\\anaconda3\\lib\\site-packages (from tensorflow) (4.3.0)\n",
      "Requirement already satisfied: astunparse>=1.6.0 in c:\\users\\chung ky\\anaconda3\\lib\\site-packages (from tensorflow) (1.6.3)"
     ]
    },
    {
     "name": "stderr",
     "output_type": "stream",
     "text": [
      "\n",
      "[notice] A new release of pip available: 22.2.2 -> 23.0.1\n",
      "[notice] To update, run: python.exe -m pip install --upgrade pip\n"
     ]
    },
    {
     "name": "stdout",
     "output_type": "stream",
     "text": [
      "\n",
      "Requirement already satisfied: tensorflow-estimator<2.11,>=2.10.0 in c:\\users\\chung ky\\anaconda3\\lib\\site-packages (from tensorflow) (2.10.0)\n",
      "Requirement already satisfied: google-pasta>=0.1.1 in c:\\users\\chung ky\\anaconda3\\lib\\site-packages (from tensorflow) (0.2.0)\n",
      "Requirement already satisfied: protobuf<3.20,>=3.9.2 in c:\\users\\chung ky\\anaconda3\\lib\\site-packages (from tensorflow) (3.19.5)\n",
      "Requirement already satisfied: grpcio<2.0,>=1.24.3 in c:\\users\\chung ky\\anaconda3\\lib\\site-packages (from tensorflow) (1.49.1)\n",
      "Requirement already satisfied: setuptools in c:\\users\\chung ky\\anaconda3\\lib\\site-packages (from tensorflow) (65.3.0)\n",
      "Requirement already satisfied: wheel<1.0,>=0.23.0 in c:\\users\\chung ky\\anaconda3\\lib\\site-packages (from astunparse>=1.6.0->tensorflow) (0.37.1)\n",
      "Requirement already satisfied: google-auth-oauthlib<0.5,>=0.4.1 in c:\\users\\chung ky\\anaconda3\\lib\\site-packages (from tensorboard<2.11,>=2.10->tensorflow) (0.4.6)\n",
      "Requirement already satisfied: requests<3,>=2.21.0 in c:\\users\\chung ky\\anaconda3\\lib\\site-packages (from tensorboard<2.11,>=2.10->tensorflow) (2.28.1)\n",
      "Requirement already satisfied: tensorboard-data-server<0.7.0,>=0.6.0 in c:\\users\\chung ky\\anaconda3\\lib\\site-packages (from tensorboard<2.11,>=2.10->tensorflow) (0.6.1)\n",
      "Requirement already satisfied: markdown>=2.6.8 in c:\\users\\chung ky\\anaconda3\\lib\\site-packages (from tensorboard<2.11,>=2.10->tensorflow) (3.4.1)\n",
      "Requirement already satisfied: tensorboard-plugin-wit>=1.6.0 in c:\\users\\chung ky\\anaconda3\\lib\\site-packages (from tensorboard<2.11,>=2.10->tensorflow) (1.8.1)\n",
      "Requirement already satisfied: google-auth<3,>=1.6.3 in c:\\users\\chung ky\\anaconda3\\lib\\site-packages (from tensorboard<2.11,>=2.10->tensorflow) (2.11.1)\n",
      "Requirement already satisfied: werkzeug>=1.0.1 in c:\\users\\chung ky\\anaconda3\\lib\\site-packages (from tensorboard<2.11,>=2.10->tensorflow) (1.0.1)\n",
      "Requirement already satisfied: pyparsing>=2.0.2 in c:\\users\\chung ky\\anaconda3\\lib\\site-packages (from packaging->tensorflow) (2.4.7)\n",
      "Requirement already satisfied: pyasn1-modules>=0.2.1 in c:\\users\\chung ky\\anaconda3\\lib\\site-packages (from google-auth<3,>=1.6.3->tensorboard<2.11,>=2.10->tensorflow) (0.2.8)\n",
      "Requirement already satisfied: cachetools<6.0,>=2.0.0 in c:\\users\\chung ky\\anaconda3\\lib\\site-packages (from google-auth<3,>=1.6.3->tensorboard<2.11,>=2.10->tensorflow) (5.2.0)\n",
      "Requirement already satisfied: rsa<5,>=3.1.4 in c:\\users\\chung ky\\anaconda3\\lib\\site-packages (from google-auth<3,>=1.6.3->tensorboard<2.11,>=2.10->tensorflow) (4.9)\n",
      "Requirement already satisfied: requests-oauthlib>=0.7.0 in c:\\users\\chung ky\\anaconda3\\lib\\site-packages (from google-auth-oauthlib<0.5,>=0.4.1->tensorboard<2.11,>=2.10->tensorflow) (1.3.1)\n",
      "Requirement already satisfied: importlib-metadata>=4.4 in c:\\users\\chung ky\\anaconda3\\lib\\site-packages (from markdown>=2.6.8->tensorboard<2.11,>=2.10->tensorflow) (4.12.0)\n",
      "Requirement already satisfied: charset-normalizer<3,>=2 in c:\\users\\chung ky\\anaconda3\\lib\\site-packages (from requests<3,>=2.21.0->tensorboard<2.11,>=2.10->tensorflow) (2.1.1)\n",
      "Requirement already satisfied: urllib3<1.27,>=1.21.1 in c:\\users\\chung ky\\anaconda3\\lib\\site-packages (from requests<3,>=2.21.0->tensorboard<2.11,>=2.10->tensorflow) (1.26.3)\n",
      "Requirement already satisfied: certifi>=2017.4.17 in c:\\users\\chung ky\\anaconda3\\lib\\site-packages (from requests<3,>=2.21.0->tensorboard<2.11,>=2.10->tensorflow) (2022.6.15)\n",
      "Requirement already satisfied: idna<4,>=2.5 in c:\\users\\chung ky\\anaconda3\\lib\\site-packages (from requests<3,>=2.21.0->tensorboard<2.11,>=2.10->tensorflow) (2.10)\n",
      "Requirement already satisfied: zipp>=0.5 in c:\\users\\chung ky\\anaconda3\\lib\\site-packages (from importlib-metadata>=4.4->markdown>=2.6.8->tensorboard<2.11,>=2.10->tensorflow) (3.4.0)\n",
      "Requirement already satisfied: pyasn1<0.5.0,>=0.4.6 in c:\\users\\chung ky\\anaconda3\\lib\\site-packages (from pyasn1-modules>=0.2.1->google-auth<3,>=1.6.3->tensorboard<2.11,>=2.10->tensorflow) (0.4.8)\n",
      "Requirement already satisfied: oauthlib>=3.0.0 in c:\\users\\chung ky\\anaconda3\\lib\\site-packages (from requests-oauthlib>=0.7.0->google-auth-oauthlib<0.5,>=0.4.1->tensorboard<2.11,>=2.10->tensorflow) (3.2.1)\n"
     ]
    }
   ],
   "source": [
    "!pip install tensorflow"
   ]
  },
  {
   "cell_type": "code",
   "execution_count": 105,
   "id": "beginning-animal",
   "metadata": {
    "scrolled": true
   },
   "outputs": [],
   "source": [
    "#from transformers import RobertaTokenizerFast, TFRobertaForSequenceClassification, pipeline\n",
    "from transformers import pipeline"
   ]
  },
  {
   "cell_type": "code",
   "execution_count": 106,
   "id": "champion-plant",
   "metadata": {
    "scrolled": false
   },
   "outputs": [
    {
     "name": "stderr",
     "output_type": "stream",
     "text": [
      "All model checkpoint layers were used when initializing TFRobertaForSequenceClassification.\n",
      "\n",
      "All the layers of TFRobertaForSequenceClassification were initialized from the model checkpoint at arpanghoshal/EmoRoBERTa.\n",
      "If your task is similar to the task the model of the checkpoint was trained on, you can already use TFRobertaForSequenceClassification for predictions without further training.\n",
      "C:\\Users\\Chung KY\\anaconda3\\lib\\site-packages\\transformers\\pipelines\\text_classification.py:89: UserWarning: `return_all_scores` is now deprecated, use `top_k=1` if you want similar functionnality\n",
      "  warnings.warn(\n"
     ]
    }
   ],
   "source": [
    "#pipeline route (speed)\n",
    "#emotion = pipeline('sentiment-analysis', model='arpanghoshal/EmoRoBERTa')\n",
    "emotion = pipeline('sentiment-analysis', model='arpanghoshal/EmoRoBERTa' , return_all_scores= True)"
   ]
  },
  {
   "cell_type": "code",
   "execution_count": 107,
   "id": "distinguished-vitamin",
   "metadata": {
    "scrolled": true
   },
   "outputs": [
    {
     "data": {
      "text/html": [
       "<div>\n",
       "<style scoped>\n",
       "    .dataframe tbody tr th:only-of-type {\n",
       "        vertical-align: middle;\n",
       "    }\n",
       "\n",
       "    .dataframe tbody tr th {\n",
       "        vertical-align: top;\n",
       "    }\n",
       "\n",
       "    .dataframe thead th {\n",
       "        text-align: right;\n",
       "    }\n",
       "</style>\n",
       "<table border=\"1\" class=\"dataframe\">\n",
       "  <thead>\n",
       "    <tr style=\"text-align: right;\">\n",
       "      <th></th>\n",
       "      <th>Datetime</th>\n",
       "      <th>Tweet Id</th>\n",
       "      <th>text</th>\n",
       "      <th>usernames</th>\n",
       "      <th>Stomach</th>\n",
       "      <th>Place</th>\n",
       "      <th>text_lemme</th>\n",
       "      <th>top_emotion</th>\n",
       "    </tr>\n",
       "  </thead>\n",
       "  <tbody>\n",
       "    <tr>\n",
       "      <th>0</th>\n",
       "      <td>2022-05-31 23:38:42 + 00:00</td>\n",
       "      <td>1.53178E+18</td>\n",
       "      <td>Shanghai announced a complete restart of the c...</td>\n",
       "      <td>Wufanus</td>\n",
       "      <td>nan</td>\n",
       "      <td>nan</td>\n",
       "      <td>shanghai announced complete restart city febru...</td>\n",
       "      <td>[{'label': 'neutral', 'score': 0.9926306009292...</td>\n",
       "    </tr>\n",
       "    <tr>\n",
       "      <th>1</th>\n",
       "      <td>2022-05-31 23:10:59 + 00:00</td>\n",
       "      <td>1.53178E+18</td>\n",
       "      <td>On May 29, Shanghai held a press conference on...</td>\n",
       "      <td>Jessie2021626</td>\n",
       "      <td>nan</td>\n",
       "      <td>nan</td>\n",
       "      <td>29 shanghai held press conference prevention c...</td>\n",
       "      <td>[{'label': 'neutral', 'score': 0.6338756084442...</td>\n",
       "    </tr>\n",
       "    <tr>\n",
       "      <th>2</th>\n",
       "      <td>2022-05-31 22:39:12 + 00:00</td>\n",
       "      <td>1.53177E+18</td>\n",
       "      <td>@peterliu2121 @8DTzwKSsKMmEwNV @firelemond @Re...</td>\n",
       "      <td>gwrcc6guukw7iyc</td>\n",
       "      <td>nan</td>\n",
       "      <td>nan</td>\n",
       "      <td>peterliu2121 8dtzwksskmmewnv firelemond realco...</td>\n",
       "      <td>[{'label': 'neutral', 'score': 0.9974021911621...</td>\n",
       "    </tr>\n",
       "    <tr>\n",
       "      <th>3</th>\n",
       "      <td>2022-05-31 21:43:20 + 00:00</td>\n",
       "      <td>1.53175E+18</td>\n",
       "      <td>Is the Shanghai epidemic really over? \\r\\n\\r\\n...</td>\n",
       "      <td>ez2p8</td>\n",
       "      <td>nan</td>\n",
       "      <td>nan</td>\n",
       "      <td>shanghai epidemic pangu news closed ccp s chin...</td>\n",
       "      <td>[{'label': 'neutral', 'score': 0.9931761622428...</td>\n",
       "    </tr>\n",
       "    <tr>\n",
       "      <th>4</th>\n",
       "      <td>2022-05-31 21:38:33 + 00:00</td>\n",
       "      <td>1.53175E+18</td>\n",
       "      <td>The Shanghai government “The Shanghai governme...</td>\n",
       "      <td>ecpp7jhczja8ct3</td>\n",
       "      <td>nan</td>\n",
       "      <td>nan</td>\n",
       "      <td>shanghai government “ the shanghai government ...</td>\n",
       "      <td>[{'label': 'amusement', 'score': 0.86504197120...</td>\n",
       "    </tr>\n",
       "    <tr>\n",
       "      <th>...</th>\n",
       "      <td>...</td>\n",
       "      <td>...</td>\n",
       "      <td>...</td>\n",
       "      <td>...</td>\n",
       "      <td>...</td>\n",
       "      <td>...</td>\n",
       "      <td>...</td>\n",
       "      <td>...</td>\n",
       "    </tr>\n",
       "    <tr>\n",
       "      <th>4997</th>\n",
       "      <td>2022-04-08 23:29:49 + 00:00</td>\n",
       "      <td>1.51257E+18</td>\n",
       "      <td>@Jam79922967 The main thing in Shanghai is tha...</td>\n",
       "      <td>lingxia 273d</td>\n",
       "      <td>nan</td>\n",
       "      <td>nan</td>\n",
       "      <td>jam79922967 main thing shanghai digital publis...</td>\n",
       "      <td>NaN</td>\n",
       "    </tr>\n",
       "    <tr>\n",
       "      <th>4998</th>\n",
       "      <td>2022-04-08 23:23:57 + 00:00</td>\n",
       "      <td>1.51257E+18</td>\n",
       "      <td>Taobao bought things for my girlfriend and bou...</td>\n",
       "      <td>MKD007</td>\n",
       "      <td>nan</td>\n",
       "      <td>nan</td>\n",
       "      <td>taobao bought thing girlfriend bought shenzhen...</td>\n",
       "      <td>NaN</td>\n",
       "    </tr>\n",
       "    <tr>\n",
       "      <th>4999</th>\n",
       "      <td>2022-04-08 23:10:26 + 00:00</td>\n",
       "      <td>1.51257E+18</td>\n",
       "      <td>The closure of Shanghai has at least one revel...</td>\n",
       "      <td>Tansunit</td>\n",
       "      <td>nan</td>\n",
       "      <td>nan</td>\n",
       "      <td>closure shanghai revelation people living city...</td>\n",
       "      <td>NaN</td>\n",
       "    </tr>\n",
       "    <tr>\n",
       "      <th>5000</th>\n",
       "      <td>2022-04-08 22:58:28 + 00:00</td>\n",
       "      <td>1.51257E+18</td>\n",
       "      <td>@198920042014 The epidemic has closed down, th...</td>\n",
       "      <td>k3fldpg4qf0obtg</td>\n",
       "      <td>nan</td>\n",
       "      <td>nan</td>\n",
       "      <td>198920042014 epidemic closed party suspended t...</td>\n",
       "      <td>NaN</td>\n",
       "    </tr>\n",
       "    <tr>\n",
       "      <th>5001</th>\n",
       "      <td>2022-04-08 22:48:49 + 00:00</td>\n",
       "      <td>1.51256E+18</td>\n",
       "      <td>@sujing110 There have never been these benefit...</td>\n",
       "      <td>gifhome</td>\n",
       "      <td>nan</td>\n",
       "      <td>nan</td>\n",
       "      <td>sujing110 benefit domestically epidemic brough...</td>\n",
       "      <td>NaN</td>\n",
       "    </tr>\n",
       "  </tbody>\n",
       "</table>\n",
       "<p>5002 rows × 8 columns</p>\n",
       "</div>"
      ],
      "text/plain": [
       "                         Datetime     Tweet Id  \\\n",
       "0     2022-05-31 23:38:42 + 00:00  1.53178E+18   \n",
       "1     2022-05-31 23:10:59 + 00:00  1.53178E+18   \n",
       "2     2022-05-31 22:39:12 + 00:00  1.53177E+18   \n",
       "3     2022-05-31 21:43:20 + 00:00  1.53175E+18   \n",
       "4     2022-05-31 21:38:33 + 00:00  1.53175E+18   \n",
       "...                           ...          ...   \n",
       "4997  2022-04-08 23:29:49 + 00:00  1.51257E+18   \n",
       "4998  2022-04-08 23:23:57 + 00:00  1.51257E+18   \n",
       "4999  2022-04-08 23:10:26 + 00:00  1.51257E+18   \n",
       "5000  2022-04-08 22:58:28 + 00:00  1.51257E+18   \n",
       "5001  2022-04-08 22:48:49 + 00:00  1.51256E+18   \n",
       "\n",
       "                                                   text        usernames  \\\n",
       "0     Shanghai announced a complete restart of the c...          Wufanus   \n",
       "1     On May 29, Shanghai held a press conference on...    Jessie2021626   \n",
       "2     @peterliu2121 @8DTzwKSsKMmEwNV @firelemond @Re...  gwrcc6guukw7iyc   \n",
       "3     Is the Shanghai epidemic really over? \\r\\n\\r\\n...            ez2p8   \n",
       "4     The Shanghai government “The Shanghai governme...  ecpp7jhczja8ct3   \n",
       "...                                                 ...              ...   \n",
       "4997  @Jam79922967 The main thing in Shanghai is tha...     lingxia 273d   \n",
       "4998  Taobao bought things for my girlfriend and bou...           MKD007   \n",
       "4999  The closure of Shanghai has at least one revel...         Tansunit   \n",
       "5000  @198920042014 The epidemic has closed down, th...  k3fldpg4qf0obtg   \n",
       "5001  @sujing110 There have never been these benefit...          gifhome   \n",
       "\n",
       "     Stomach Place                                         text_lemme  \\\n",
       "0        nan   nan  shanghai announced complete restart city febru...   \n",
       "1        nan   nan  29 shanghai held press conference prevention c...   \n",
       "2        nan   nan  peterliu2121 8dtzwksskmmewnv firelemond realco...   \n",
       "3        nan   nan  shanghai epidemic pangu news closed ccp s chin...   \n",
       "4        nan   nan  shanghai government “ the shanghai government ...   \n",
       "...      ...   ...                                                ...   \n",
       "4997     nan   nan  jam79922967 main thing shanghai digital publis...   \n",
       "4998     nan   nan  taobao bought thing girlfriend bought shenzhen...   \n",
       "4999     nan   nan  closure shanghai revelation people living city...   \n",
       "5000     nan   nan  198920042014 epidemic closed party suspended t...   \n",
       "5001     nan   nan  sujing110 benefit domestically epidemic brough...   \n",
       "\n",
       "                                            top_emotion  \n",
       "0     [{'label': 'neutral', 'score': 0.9926306009292...  \n",
       "1     [{'label': 'neutral', 'score': 0.6338756084442...  \n",
       "2     [{'label': 'neutral', 'score': 0.9974021911621...  \n",
       "3     [{'label': 'neutral', 'score': 0.9931761622428...  \n",
       "4     [{'label': 'amusement', 'score': 0.86504197120...  \n",
       "...                                                 ...  \n",
       "4997                                                NaN  \n",
       "4998                                                NaN  \n",
       "4999                                                NaN  \n",
       "5000                                                NaN  \n",
       "5001                                                NaN  \n",
       "\n",
       "[5002 rows x 8 columns]"
      ]
     },
     "execution_count": 107,
     "metadata": {},
     "output_type": "execute_result"
    }
   ],
   "source": [
    "#Append top 3 emotions into dataframe\n",
    "database2['top_emotion'] = database2['text_lemme'][0:2500].apply(emotion,top_k=3)\n",
    "database2"
   ]
  },
  {
   "cell_type": "code",
   "execution_count": 108,
   "id": "verified-words",
   "metadata": {},
   "outputs": [],
   "source": [
    "#Extracting data frame into csv for data visualization\n",
    "database2.to_csv('top3_emotions_en.Twitter_May_June_2022_5000_chinese_chinese_1.csv', index=False)"
   ]
  },
  {
   "cell_type": "markdown",
   "id": "surgical-panic",
   "metadata": {},
   "source": [
    "# Visualization"
   ]
  },
  {
   "cell_type": "code",
   "execution_count": 47,
   "id": "instrumental-saturday",
   "metadata": {},
   "outputs": [
    {
     "name": "stderr",
     "output_type": "stream",
     "text": [
      "[nltk_data] Downloading package stopwords to C:\\Users\\Chung\n",
      "[nltk_data]     KY\\AppData\\Roaming\\nltk_data...\n",
      "[nltk_data]   Package stopwords is already up-to-date!\n"
     ]
    }
   ],
   "source": [
    "import pandas as pd\n",
    "import numpy as np\n",
    "import nltk\n",
    "import re\n",
    "from nltk.tokenize import RegexpTokenizer\n",
    "from scipy.spatial.distance import cdist\n",
    "from sklearn.metrics import silhouette_score\n",
    "from nltk.stem.porter import *\n",
    "from nltk.stem import WordNetLemmatizer\n",
    "nltk.download('stopwords')\n",
    "from nltk.corpus import stopwords\n",
    "from sklearn.feature_extraction.text import TfidfVectorizer\n",
    "from sklearn.metrics.pairwise import cosine_similarity\n",
    "from sklearn.cluster import KMeans\n",
    "import matplotlib.pyplot as plt\n",
    "import matplotlib.style as style\n",
    "import matplotlib\n",
    "import seaborn as sns\n",
    "%matplotlib inline\n",
    "\n",
    "database = pd.read_csv('Twitter_Covid-19_Lockdown_5000.csv')"
   ]
  },
  {
   "cell_type": "code",
   "execution_count": 48,
   "id": "miniature-geometry",
   "metadata": {
    "scrolled": true
   },
   "outputs": [
    {
     "data": {
      "image/png": "[encoded data removed]",
      "text/plain": [
       "<Figure size 720x360 with 1 Axes>"
      ]
     },
     "metadata": {
      "needs_background": "light"
     },
     "output_type": "display_data"
    }
   ],
   "source": [
    "plt.figure(figsize=(10,5))\n",
    "ax = sns.countplot(data=database, y = 'top_emotion', order=database['top_emotion'].value_counts().iloc[:5].index)\n",
    "for label in ax.containers:\n",
    "    ax.bar_label(label)\n",
    "plt.title('Emotion Distribution')\n",
    "\n",
    "plt.savefig('../Twitter_Output/Twitter_Covid-19_Lockdown_5000_Top_5_emotions.png', dpi=400, bbox_inches=\"tight\")"
   ]
  },
  {
   "cell_type": "code",
   "execution_count": 49,
   "id": "published-category",
   "metadata": {
    "scrolled": true
   },
   "outputs": [
    {
     "name": "stderr",
     "output_type": "stream",
     "text": [
      "[nltk_data] Downloading package stopwords to C:\\Users\\Chung\n",
      "[nltk_data]     KY\\AppData\\Roaming\\nltk_data...\n",
      "[nltk_data]   Package stopwords is already up-to-date!\n"
     ]
    }
   ],
   "source": [
    "import pandas as pd\n",
    "import numpy as np\n",
    "import nltk\n",
    "import re\n",
    "from nltk.tokenize import RegexpTokenizer\n",
    "from scipy.spatial.distance import cdist\n",
    "from sklearn.metrics import silhouette_score\n",
    "from nltk.stem.porter import *\n",
    "from nltk.stem import WordNetLemmatizer\n",
    "nltk.download('stopwords')\n",
    "from nltk.corpus import stopwords\n",
    "from sklearn.feature_extraction.text import TfidfVectorizer\n",
    "from sklearn.metrics.pairwise import cosine_similarity\n",
    "from sklearn.cluster import KMeans\n",
    "import matplotlib.pyplot as plt\n",
    "import matplotlib.style as style\n",
    "import matplotlib\n",
    "import seaborn as sns\n",
    "%matplotlib inline\n",
    "\n",
    "database = pd.read_csv('Twitter_Jan_Mar_5000.csv')"
   ]
  },
  {
   "cell_type": "code",
   "execution_count": 50,
   "id": "falling-allowance",
   "metadata": {
    "scrolled": false
   },
   "outputs": [
    {
     "data": {
      "image/png": "[encoded data removed]",
      "text/plain": [
       "<Figure size 720x360 with 1 Axes>"
      ]
     },
     "metadata": {
      "needs_background": "light"
     },
     "output_type": "display_data"
    }
   ],
   "source": [
    "#Display bar chart\n",
    "plt.figure(figsize=(10,5))\n",
    "ax = sns.countplot(data=database, y = 'top_emotion', order=database['top_emotion'].value_counts().iloc[:5].index)\n",
    "for label in ax.containers:\n",
    "    ax.bar_label(label)\n",
    "plt.title('Emotion Distribution')\n",
    "\n",
    "plt.savefig('../Twitter_Output/Twitter_Jan_Mar_5000_Top_5_emotions.png', dpi=400, bbox_inches=\"tight\")"
   ]
  },
  {
   "cell_type": "code",
   "execution_count": 51,
   "id": "about-husband",
   "metadata": {},
   "outputs": [
    {
     "data": {
      "image/png": "[encoded data removed]",
      "text/plain": [
       "<Figure size 720x360 with 1 Axes>"
      ]
     },
     "metadata": {
      "needs_background": "light"
     },
     "output_type": "display_data"
    }
   ],
   "source": [
    "#Display bar chart\n",
    "plt.figure(figsize=(10,5))\n",
    "ax = sns.countplot(data=database, y = 'top_emotion', order=database['top_emotion'].value_counts().iloc[:10].index)\n",
    "for label in ax.containers:\n",
    "    ax.bar_label(label)\n",
    "plt.title('Emotion Distribution')\n",
    "\n",
    "plt.savefig('../Twitter_Output/Twitter_Jan_Mar_5000_Top_10_emotions.png', dpi=400, bbox_inches=\"tight\")"
   ]
  },
  {
   "cell_type": "code",
   "execution_count": 52,
   "id": "organic-westminster",
   "metadata": {},
   "outputs": [
    {
     "name": "stderr",
     "output_type": "stream",
     "text": [
      "[nltk_data] Downloading package stopwords to C:\\Users\\Chung\n",
      "[nltk_data]     KY\\AppData\\Roaming\\nltk_data...\n",
      "[nltk_data]   Package stopwords is already up-to-date!\n"
     ]
    }
   ],
   "source": [
    "import pandas as pd\n",
    "import numpy as np\n",
    "import nltk\n",
    "import re\n",
    "from nltk.tokenize import RegexpTokenizer\n",
    "from scipy.spatial.distance import cdist\n",
    "from sklearn.metrics import silhouette_score\n",
    "from nltk.stem.porter import *\n",
    "from nltk.stem import WordNetLemmatizer\n",
    "nltk.download('stopwords')\n",
    "from nltk.corpus import stopwords\n",
    "from sklearn.feature_extraction.text import TfidfVectorizer\n",
    "from sklearn.metrics.pairwise import cosine_similarity\n",
    "from sklearn.cluster import KMeans\n",
    "import matplotlib.pyplot as plt\n",
    "import matplotlib.style as style\n",
    "import matplotlib\n",
    "import seaborn as sns\n",
    "%matplotlib inline\n",
    "\n",
    "database = pd.read_csv('Twitter_Mar_5000.csv')"
   ]
  },
  {
   "cell_type": "code",
   "execution_count": 53,
   "id": "searching-county",
   "metadata": {
    "scrolled": true
   },
   "outputs": [
    {
     "data": {
      "image/png": "[encoded data removed]",
      "text/plain": [
       "<Figure size 720x360 with 1 Axes>"
      ]
     },
     "metadata": {
      "needs_background": "light"
     },
     "output_type": "display_data"
    }
   ],
   "source": [
    "#Display bar chart\n",
    "plt.figure(figsize=(10,5))\n",
    "ax = sns.countplot(data=database, y = 'top_emotion', order=database['top_emotion'].value_counts().iloc[:5].index)\n",
    "for label in ax.containers:\n",
    "    ax.bar_label(label)\n",
    "plt.title('Emotion Distribution')\n",
    "\n",
    "plt.savefig('../Twitter_Output/Twitter_Mar_5000_Top_5_emotions.png', dpi=400, bbox_inches=\"tight\")"
   ]
  },
  {
   "cell_type": "code",
   "execution_count": 54,
   "id": "external-entity",
   "metadata": {},
   "outputs": [
    {
     "name": "stderr",
     "output_type": "stream",
     "text": [
      "[nltk_data] Downloading package stopwords to C:\\Users\\Chung\n",
      "[nltk_data]     KY\\AppData\\Roaming\\nltk_data...\n",
      "[nltk_data]   Package stopwords is already up-to-date!\n"
     ]
    }
   ],
   "source": [
    "import pandas as pd\n",
    "import numpy as np\n",
    "import nltk\n",
    "import re\n",
    "from nltk.tokenize import RegexpTokenizer\n",
    "from scipy.spatial.distance import cdist\n",
    "from sklearn.metrics import silhouette_score\n",
    "from nltk.stem.porter import *\n",
    "from nltk.stem import WordNetLemmatizer\n",
    "nltk.download('stopwords')\n",
    "from nltk.corpus import stopwords\n",
    "from sklearn.feature_extraction.text import TfidfVectorizer\n",
    "from sklearn.metrics.pairwise import cosine_similarity\n",
    "from sklearn.cluster import KMeans\n",
    "import matplotlib.pyplot as plt\n",
    "import matplotlib.style as style\n",
    "import matplotlib\n",
    "import seaborn as sns\n",
    "%matplotlib inline\n",
    "\n",
    "database = pd.read_csv('Twitter_May_Nov_5000.csv')"
   ]
  },
  {
   "cell_type": "code",
   "execution_count": 55,
   "id": "annoying-choir",
   "metadata": {
    "scrolled": true
   },
   "outputs": [
    {
     "data": {
      "image/png": "[encoded data removed]",
      "text/plain": [
       "<Figure size 720x360 with 1 Axes>"
      ]
     },
     "metadata": {
      "needs_background": "light"
     },
     "output_type": "display_data"
    }
   ],
   "source": [
    "#Display bar chart\n",
    "plt.figure(figsize=(10,5))\n",
    "ax = sns.countplot(data=database, y = 'top_emotion', order=database['top_emotion'].value_counts().iloc[:5].index)\n",
    "for label in ax.containers:\n",
    "    ax.bar_label(label)\n",
    "plt.title('Emotion Distribution')\n",
    "\n",
    "plt.savefig('../Twitter_Output/Twitter_May_Nov_5000_Top_5_emotions.png', dpi=400, bbox_inches=\"tight\")"
   ]
  },
  {
   "cell_type": "code",
   "execution_count": 56,
   "id": "viral-evanescence",
   "metadata": {},
   "outputs": [
    {
     "name": "stderr",
     "output_type": "stream",
     "text": [
      "[nltk_data] Downloading package stopwords to C:\\Users\\Chung\n",
      "[nltk_data]     KY\\AppData\\Roaming\\nltk_data...\n",
      "[nltk_data]   Package stopwords is already up-to-date!\n"
     ]
    }
   ],
   "source": [
    "import pandas as pd\n",
    "import numpy as np\n",
    "import nltk\n",
    "import re\n",
    "from nltk.tokenize import RegexpTokenizer\n",
    "from scipy.spatial.distance import cdist\n",
    "from sklearn.metrics import silhouette_score\n",
    "from nltk.stem.porter import *\n",
    "from nltk.stem import WordNetLemmatizer\n",
    "nltk.download('stopwords')\n",
    "from nltk.corpus import stopwords\n",
    "from sklearn.feature_extraction.text import TfidfVectorizer\n",
    "from sklearn.metrics.pairwise import cosine_similarity\n",
    "from sklearn.cluster import KMeans\n",
    "import matplotlib.pyplot as plt\n",
    "import matplotlib.style as style\n",
    "import matplotlib\n",
    "import seaborn as sns\n",
    "%matplotlib inline\n",
    "\n",
    "database = pd.read_csv('en.Twitter_Covid-19_Lockdown_5000_chinese.csv')"
   ]
  },
  {
   "cell_type": "code",
   "execution_count": 57,
   "id": "golden-gamma",
   "metadata": {},
   "outputs": [
    {
     "data": {
      "image/png": "[encoded data removed]",
      "text/plain": [
       "<Figure size 720x360 with 1 Axes>"
      ]
     },
     "metadata": {
      "needs_background": "light"
     },
     "output_type": "display_data"
    }
   ],
   "source": [
    "#Display bar chart\n",
    "plt.figure(figsize=(10,5))\n",
    "ax = sns.countplot(data=database, y = 'top_emotion', order=database['top_emotion'].value_counts().iloc[:5].index)\n",
    "for label in ax.containers:\n",
    "    ax.bar_label(label)\n",
    "plt.title('Emotion Distribution')\n",
    "\n",
    "plt.savefig('../Twitter_Output/en.Twitter_Covid-19_Lockdown_5000_chinese_Top_5_emotions.png', dpi=400, bbox_inches=\"tight\")"
   ]
  },
  {
   "cell_type": "code",
   "execution_count": 58,
   "id": "computational-enzyme",
   "metadata": {},
   "outputs": [
    {
     "name": "stderr",
     "output_type": "stream",
     "text": [
      "[nltk_data] Downloading package stopwords to C:\\Users\\Chung\n",
      "[nltk_data]     KY\\AppData\\Roaming\\nltk_data...\n",
      "[nltk_data]   Package stopwords is already up-to-date!\n"
     ]
    }
   ],
   "source": [
    "import pandas as pd\n",
    "import numpy as np\n",
    "import nltk\n",
    "import re\n",
    "from nltk.tokenize import RegexpTokenizer\n",
    "from scipy.spatial.distance import cdist\n",
    "from sklearn.metrics import silhouette_score\n",
    "from nltk.stem.porter import *\n",
    "from nltk.stem import WordNetLemmatizer\n",
    "nltk.download('stopwords')\n",
    "from nltk.corpus import stopwords\n",
    "from sklearn.feature_extraction.text import TfidfVectorizer\n",
    "from sklearn.metrics.pairwise import cosine_similarity\n",
    "from sklearn.cluster import KMeans\n",
    "import matplotlib.pyplot as plt\n",
    "import matplotlib.style as style\n",
    "import matplotlib\n",
    "import seaborn as sns\n",
    "%matplotlib inline\n",
    "\n",
    "database = pd.read_csv('en.Twitter_Jan_Apr_2020_5000_chinese.csv')"
   ]
  },
  {
   "cell_type": "code",
   "execution_count": 59,
   "id": "moved-incident",
   "metadata": {},
   "outputs": [
    {
     "data": {
      "image/png": "[encoded data removed]",
      "text/plain": [
       "<Figure size 720x360 with 1 Axes>"
      ]
     },
     "metadata": {
      "needs_background": "light"
     },
     "output_type": "display_data"
    }
   ],
   "source": [
    "#Display bar chart\n",
    "plt.figure(figsize=(10,5))\n",
    "ax = sns.countplot(data=database, y = 'top_emotion', order=database['top_emotion'].value_counts().iloc[:5].index)\n",
    "for label in ax.containers:\n",
    "    ax.bar_label(label)\n",
    "plt.title('Emotion Distribution')\n",
    "\n",
    "plt.savefig('../Twitter_Output/en.Twitter_Jan_Apr_2020_5000_chinese_Top_5_emotions.png', dpi=400, bbox_inches=\"tight\")"
   ]
  },
  {
   "cell_type": "code",
   "execution_count": 60,
   "id": "outer-marine",
   "metadata": {},
   "outputs": [
    {
     "name": "stderr",
     "output_type": "stream",
     "text": [
      "[nltk_data] Downloading package stopwords to C:\\Users\\Chung\n",
      "[nltk_data]     KY\\AppData\\Roaming\\nltk_data...\n",
      "[nltk_data]   Package stopwords is already up-to-date!\n"
     ]
    }
   ],
   "source": [
    "import pandas as pd\n",
    "import numpy as np\n",
    "import nltk\n",
    "import re\n",
    "from nltk.tokenize import RegexpTokenizer\n",
    "from scipy.spatial.distance import cdist\n",
    "from sklearn.metrics import silhouette_score\n",
    "from nltk.stem.porter import *\n",
    "from nltk.stem import WordNetLemmatizer\n",
    "nltk.download('stopwords')\n",
    "from nltk.corpus import stopwords\n",
    "from sklearn.feature_extraction.text import TfidfVectorizer\n",
    "from sklearn.metrics.pairwise import cosine_similarity\n",
    "from sklearn.cluster import KMeans\n",
    "import matplotlib.pyplot as plt\n",
    "import matplotlib.style as style\n",
    "import matplotlib\n",
    "import seaborn as sns\n",
    "%matplotlib inline\n",
    "\n",
    "database = pd.read_csv('en.Twitter_May_June_2022_5000_chinese.csv')"
   ]
  },
  {
   "cell_type": "code",
   "execution_count": 61,
   "id": "martial-citizen",
   "metadata": {},
   "outputs": [
    {
     "data": {
      "image/png": "[encoded data removed]",
      "text/plain": [
       "<Figure size 720x360 with 1 Axes>"
      ]
     },
     "metadata": {
      "needs_background": "light"
     },
     "output_type": "display_data"
    }
   ],
   "source": [
    "#Display bar chart\n",
    "plt.figure(figsize=(10,5))\n",
    "ax = sns.countplot(data=database, y = 'top_emotion', order=database['top_emotion'].value_counts().iloc[:5].index)\n",
    "for label in ax.containers:\n",
    "    ax.bar_label(label)\n",
    "plt.title('Emotion Distribution')\n",
    "\n",
    "plt.savefig('../Twitter_Output/en.Twitter_May_June_2022_5000_Top_5_emotions.png', dpi=400, bbox_inches=\"tight\")"
   ]
  }
 ],
 "metadata": {
  "kernelspec": {
   "display_name": "Python 3",
   "language": "python",
   "name": "python3"
  },
  "language_info": {
   "codemirror_mode": {
    "name": "ipython",
    "version": 3
   },
   "file_extension": ".py",
   "mimetype": "text/x-python",
   "name": "python",
   "nbconvert_exporter": "python",
   "pygments_lexer": "ipython3",
   "version": "3.8.8"
  }
 },
 "nbformat": 4,
 "nbformat_minor": 5
}
